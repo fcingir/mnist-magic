{
 "cells": [
  {
   "cell_type": "markdown",
   "metadata": {},
   "source": [
    "# All the same. Elementary level."
   ]
  },
  {
   "cell_type": "code",
   "execution_count": 5,
   "metadata": {},
   "outputs": [],
   "source": [
    "# check if all elements in the list are equal.\n",
    "\n",
    "from typing import List, Any\n",
    "\n",
    "\n",
    "def all_the_same(elements: List[Any]) -> bool:\n",
    "    if len(elements) == 0:\n",
    "        return True\n",
    "    testing_term = elements[0]\n",
    "    counter = 0\n",
    "    for i in elements:\n",
    "        if i == testing_term:\n",
    "            counter += 1\n",
    "    if counter == len(elements):\n",
    "        return True\n",
    "    else:\n",
    "        return False"
   ]
  },
  {
   "cell_type": "markdown",
   "metadata": {},
   "source": [
    "# 24h to 12h format. "
   ]
  },
  {
   "cell_type": "code",
   "execution_count": 23,
   "metadata": {},
   "outputs": [
    {
     "name": "stdout",
     "output_type": "stream",
     "text": [
      "0\n"
     ]
    },
    {
     "data": {
      "text/plain": [
       "'12:20 a.m.'"
      ]
     },
     "execution_count": 23,
     "metadata": {},
     "output_type": "execute_result"
    }
   ],
   "source": [
    "def time_converter(time):\n",
    "    hour = int(time[0:2])\n",
    "    print(hour)\n",
    "    \n",
    "    if hour > 12:\n",
    "        hour = hour - 12\n",
    "        return str(hour) + \":\" + time[3:5] + \" p.m.\"\n",
    "    if hour == 12:\n",
    "        return str(hour) + \":\" + time[3:5] + \" p.m.\"\n",
    "    \n",
    "    if hour == 0:\n",
    "        return str(12) + \":\" + time[3:5] + \" a.m.\"\n",
    "    \n",
    "    return str(hour) + \":\" + time[3:5] + \" a.m.\"\n",
    "\n",
    "time_converter('00:20')\n"
   ]
  },
  {
   "cell_type": "markdown",
   "metadata": {},
   "source": [
    "# Filter non-unique elements"
   ]
  },
  {
   "cell_type": "code",
   "execution_count": 41,
   "metadata": {},
   "outputs": [],
   "source": [
    "#Your optional code here\n",
    "#You can import some modules or create additional functions\n",
    "\n",
    "def checkio(data: list) -> list:\n",
    "    \n",
    "    newdata = []\n",
    "    for i in data:\n",
    "        if data.count(i) != 1:\n",
    "            newdata.append(i)\n",
    "        \n",
    "    return newdata\n",
    "\n",
    "\n",
    "\n",
    "\n",
    "#if __name__ == \"__main__\":\n",
    "#    #These \"asserts\" using only for self-checking and not necessary for auto-testing\n",
    "#    assert list(checkio([1, 2, 3, 1, 3])) == [1, 3, 1, 3], \"1st example\"\n",
    "#    assert list(checkio([1, 2, 3, 4, 5])) == [], \"2nd example\"\n",
    "#    assert list(checkio([5, 5, 5, 5, 5])) == [5, 5, 5, 5, 5], \"3rd example\"\n",
    "#    assert list(checkio([10, 9, 10, 10, 9, 8])) == [10, 9, 10, 10, 9], \"4th example\"\n",
    "#    print(\"It is all good. Let's check it now\")"
   ]
  },
  {
   "cell_type": "markdown",
   "metadata": {},
   "source": [
    "# Calculate angle of sun by time of day"
   ]
  },
  {
   "cell_type": "code",
   "execution_count": 46,
   "metadata": {},
   "outputs": [
    {
     "name": "stdout",
     "output_type": "stream",
     "text": [
      "Example:\n",
      "15.0\n",
      "Coding complete? Click 'Check' to earn cool rewards!\n"
     ]
    }
   ],
   "source": [
    "def sun_angle(time):\n",
    "    dark = \"I don't see the sun!\"\n",
    "    hour = int(time[:2])\n",
    "    minute = int(time[3:5])\n",
    "    if hour > 18:\n",
    "        return dark\n",
    "    if hour == 18:\n",
    "        if minute > 0:\n",
    "            return dark\n",
    "    if hour < 6:\n",
    "        return dark\n",
    "    \n",
    "    sunstance_hour = 180/12\n",
    "    sunstance_minute = 180/12/60\n",
    "    \n",
    "    return sunstance_hour * (hour-6) + sunstance_minute*minute\n",
    "\n",
    "if __name__ == '__main__':\n",
    "    print(\"Example:\")\n",
    "    print(sun_angle(\"07:00\"))\n",
    "\n",
    "    #These \"asserts\" using only for self-checking and not necessary for auto-testing\n",
    "    assert sun_angle(\"07:00\") == 15\n",
    "    assert sun_angle(\"01:23\") == \"I don't see the sun!\"\n",
    "    print(\"Coding complete? Click 'Check' to earn cool rewards!\")"
   ]
  },
  {
   "cell_type": "markdown",
   "metadata": {},
   "source": [
    "# Bird Language. Elementary. "
   ]
  },
  {
   "cell_type": "code",
   "execution_count": 41,
   "metadata": {},
   "outputs": [
    {
     "data": {
      "text/plain": [
       "'how you doin'"
      ]
     },
     "execution_count": 41,
     "metadata": {},
     "output_type": "execute_result"
    }
   ],
   "source": [
    "import re\n",
    "VOWELS = \"aeiouy\"\n",
    "\n",
    "def translate(phrase):\n",
    "    \n",
    "    return re.sub(r'(\\w)\\1?.', r'\\1', phrase) # \\w is an alphanumeric character. \\1 \n",
    "                                                # The first \\1 means the first group - i.e. the first bracketed expression (\\b[a-z]+)\n",
    "                                                #? The question mark symbol ? matches zero or one occurrence of the pattern left to it.\n",
    "                                                #. A period matches any single character (except newline '\\n').\n",
    "translate(\"hoooowe yyyooouuu duoooiiine\")\n",
    "\n",
    "#if __name__ == '__main__':\n",
    "#    print(\"Example:\")\n",
    "#    print(translate(\"hieeelalaooo\"))\n",
    "#\n",
    "#    #These \"asserts\" using only for self-checking and not necessary for auto-testing\n",
    "#    assert translate(\"hieeelalaooo\") == \"hello\", \"Hi!\"\n",
    "#    assert translate(\"hoooowe yyyooouuu duoooiiine\") == \"how you doin\", \"Joey?\"\n",
    "#    assert translate(\"aaa bo cy da eee fe\") == \"a b c d e f\", \"Alphabet\"\n",
    "#    assert translate(\"sooooso aaaaaaaaa\") == \"sos aaa\", \"Mayday, mayday\"\n",
    "#    print(\"Coding complete? Click 'Check' to review your tests and earn cool rewards!\")\n"
   ]
  },
  {
   "cell_type": "markdown",
   "metadata": {},
   "source": [
    "# Solve House Password. Simple level: two regex solutions. Second one is more elegant."
   ]
  },
  {
   "cell_type": "code",
   "execution_count": 71,
   "metadata": {},
   "outputs": [
    {
     "data": {
      "text/plain": [
       "True"
      ]
     },
     "execution_count": 71,
     "metadata": {},
     "output_type": "execute_result"
    }
   ],
   "source": [
    "import re\n",
    "\n",
    "def checkio(data: str) -> bool:\n",
    "    #>= 10 symbols, at least one digit, one uppercase and one lowercase digit\n",
    "    if len(data) >= 10:\n",
    "        if len(re.findall('\\d', data)) >= 1:\n",
    "            if len(re.findall('[A-Z]', data)) >= 1:\n",
    "                if len(re.findall('[a-z]', data)) >= 1:\n",
    "                    return True\n",
    "    return False\n",
    "\n",
    "checkio('asodaodADDA301h')"
   ]
  },
  {
   "cell_type": "code",
   "execution_count": 73,
   "metadata": {},
   "outputs": [
    {
     "data": {
      "text/plain": [
       "True"
      ]
     },
     "execution_count": 73,
     "metadata": {},
     "output_type": "execute_result"
    }
   ],
   "source": [
    "def checkio(data: str) -> bool:\n",
    "    if re.match('\\d.*[A-Z]|[A-Z].*\\d', data) == None:\n",
    "        return True\n",
    "    return False\n",
    "\n",
    "checkio('asodaodADDA301h')"
   ]
  },
  {
   "cell_type": "markdown",
   "metadata": {},
   "source": [
    "# flatten a list"
   ]
  },
  {
   "cell_type": "code",
   "execution_count": 2,
   "metadata": {},
   "outputs": [
    {
     "data": {
      "text/plain": [
       "[[2], 4, [5, 6, [6], 6, 6, 6], 7]"
      ]
     },
     "execution_count": 2,
     "metadata": {},
     "output_type": "execute_result"
    }
   ],
   "source": [
    "def flat_list(array):\n",
    "    new = []\n",
    "    for i in array:\n",
    "        if type(i) == list:\n",
    "            for j in i:\n",
    "                new.append(j)\n",
    "        else:\n",
    "            new.append(i)\n",
    "    \n",
    "    return new\n",
    "\n",
    "flat_list([1, [2, 2, 2], 4])\n",
    "flat_list([[[2]],[4,[5,6,[6],6,6,6],7]])"
   ]
  },
  {
   "cell_type": "code",
   "execution_count": 14,
   "metadata": {},
   "outputs": [
    {
     "data": {
      "text/plain": [
       "[2, 4, 5, 6, 6, 6, 6, 6, 7]"
      ]
     },
     "execution_count": 14,
     "metadata": {},
     "output_type": "execute_result"
    }
   ],
   "source": [
    "def flat_list(array): #internet solution\n",
    "    ans = []\n",
    "    for i in array:\n",
    "        ans += flat_list(i) if isinstance(i,list) else [i]\n",
    "    return ans\n",
    "flat_list([[[2]],[4,[5,6,[6],6,6,6],7]])"
   ]
  },
  {
   "cell_type": "code",
   "execution_count": 83,
   "metadata": {},
   "outputs": [
    {
     "data": {
      "text/plain": [
       "3"
      ]
     },
     "execution_count": 83,
     "metadata": {},
     "output_type": "execute_result"
    }
   ],
   "source": [
    "# Long repeat. Return the number of the most frequently counted letter"
   ]
  },
  {
   "cell_type": "code",
   "execution_count": 55,
   "metadata": {},
   "outputs": [
    {
     "name": "stdout",
     "output_type": "stream",
     "text": [
      "[1]\n",
      "[1, 1]\n",
      "[1, 1, 2]\n",
      "[1, 1, 2, 1]\n",
      "[1, 1, 2, 1, 2]\n",
      "[1, 1, 2, 1, 2, 3]\n",
      "[1, 1, 2, 1, 2, 3, 4]\n",
      "[1, 1, 2, 1, 2, 3, 4, 5]\n"
     ]
    },
    {
     "data": {
      "text/plain": [
       "6"
      ]
     },
     "execution_count": 55,
     "metadata": {},
     "output_type": "execute_result"
    }
   ],
   "source": [
    "def long_repeat(line):\n",
    "    \n",
    "    if len(line) == 0:\n",
    "        return 0\n",
    "    \n",
    "    output = []\n",
    "    n = 0\n",
    "    \n",
    "    for i in range(len(line)-1):\n",
    "        if line[i] == line[i+1]:\n",
    "            n += 1\n",
    "            output.append(n)\n",
    "            print(output)\n",
    "        else:\n",
    "            n = 0\n",
    "    if output == []:\n",
    "        return 1\n",
    "    \n",
    "    return max(output)+1\n",
    "long_repeat('dvvrwwwrgggggg')"
   ]
  },
  {
   "cell_type": "markdown",
   "metadata": {},
   "source": [
    "# Determine tictactoe sequence winner"
   ]
  },
  {
   "cell_type": "code",
   "execution_count": 96,
   "metadata": {},
   "outputs": [
    {
     "data": {
      "text/plain": [
       "'D'"
      ]
     },
     "execution_count": 96,
     "metadata": {},
     "output_type": "execute_result"
    }
   ],
   "source": [
    "from typing import List\n",
    "\n",
    "def checkio(game_result: List[str]) -> str:\n",
    "    for i in range(3):\n",
    "            #check vertical 3 in a row\n",
    "            if game_result[0][i] == game_result[1][i] == game_result[2][i]:\n",
    "                if not game_result[0][i] == \".\":\n",
    "                    return game_result[0][i]\n",
    "            # check horizontal 3 in a row\n",
    "            if game_result[i][0] == game_result[i][1] == game_result[i][2]:\n",
    "                if not game_result[i][0] == \".\":\n",
    "                    return game_result[i][0]\n",
    "                \n",
    "            \n",
    "            #check cross\n",
    "            if game_result[0][0] == game_result[1][1] == game_result[2][2]:\n",
    "                if not game_result[0][0] == \".\":\n",
    "                    return game_result[0][0]\n",
    "                \n",
    "            if game_result[0][2] == game_result[1][1] == game_result[2][0]:\n",
    "                if not game_result[0][2] == \".\":\n",
    "                    return game_result[0][2]\n",
    "                \n",
    "    return \"D\"\n",
    "\n",
    "checkio([\n",
    "        \"...\",\n",
    "        \"XXO\",\n",
    "        \"OXX\"])"
   ]
  },
  {
   "cell_type": "code",
   "execution_count": 130,
   "metadata": {},
   "outputs": [
    {
     "data": {
      "text/plain": [
       "'D'"
      ]
     },
     "execution_count": 130,
     "metadata": {},
     "output_type": "execute_result"
    }
   ],
   "source": [
    "from typing import List                    ###################### Master method ####################\n",
    "\n",
    "def checkio(game_result: List[str]) -> str:\n",
    "    columns = [\"\".join(x) for x in zip(*game_result)]\n",
    "    diagonals = [\"\".join(c) for c in zip(*[(x[i], x[2-i]) for i,x in enumerate(game_result)])]\n",
    "\n",
    "    combination = game_result + columns + diagonals\n",
    "    \n",
    "    if \"XXX\" in combination: return \"X\"\n",
    "    if \"OOO\" in combination: return \"O\"\n",
    "    \n",
    "    return \"D\"\n",
    "\n",
    "checkio([\n",
    "        \"...\",\n",
    "        \"XXO\",\n",
    "        \"OXX\"])"
   ]
  },
  {
   "cell_type": "code",
   "execution_count": 131,
   "metadata": {},
   "outputs": [
    {
     "name": "stdout",
     "output_type": "stream",
     "text": [
      "Example:\n",
      "X\n",
      "Coding complete? Click 'Check' to review your tests and earn cool rewards!\n"
     ]
    }
   ],
   "source": [
    "def checkio(game_result: List[str]) -> str:\n",
    "\n",
    "    \"\"\"\n",
    "\n",
    "    This algorithm can be easily adopted for grid of any size\n",
    "\n",
    "    by replacing integers with variable dependant on len(game_result[0]).\n",
    "\n",
    "    \"\"\"\n",
    "\n",
    "\n",
    "    # Convert list of strings to a plain string.\n",
    "\n",
    "    s = ''.join(game_result)\n",
    "\n",
    "\n",
    "    for i in range(3):\n",
    "\n",
    "        # Check columns.\n",
    "\n",
    "        if s[i] != '.' and s[i::3].count(s[i]) == 3:\n",
    "\n",
    "            return s[i]\n",
    "\n",
    "\n",
    "        # Check rows.\n",
    "\n",
    "        i *= 3\n",
    "\n",
    "        if s[i] != '.' and s[i:(i + 3)].count(s[i]) == 3:\n",
    "\n",
    "            return s[i]\n",
    "\n",
    "\n",
    "    # Check diagonals.\n",
    "\n",
    "    # s[4] - central element, common for both diagonals.\n",
    "\n",
    "    # For grids with even size every diagonal should have it's own if statement.\n",
    "\n",
    "    if s[4] != '.' and (s[::4].count(s[4]) == 3 or s[2:7:2].count(s[4]) == 3):\n",
    "\n",
    "        return s[4]\n",
    "\n",
    "\n",
    "    return \"D\"\n",
    "\n",
    "\n",
    "\n",
    "if __name__ == '__main__':\n",
    "\n",
    "    print(\"Example:\")\n",
    "\n",
    "    print(checkio([\"X.O\",\n",
    "\n",
    "                   \"XX.\",\n",
    "\n",
    "                   \"XOO\"]))\n",
    "\n",
    "\n",
    "    #These \"asserts\" using only for self-checking and not necessary for auto-testing\n",
    "\n",
    "    assert checkio([\n",
    "\n",
    "        \"X.O\",\n",
    "\n",
    "        \"XX.\",\n",
    "\n",
    "        \"XOO\"]) == \"X\", \"Xs wins\"\n",
    "\n",
    "    assert checkio([\n",
    "\n",
    "        \"OO.\",\n",
    "\n",
    "        \"XOX\",\n",
    "\n",
    "        \"XOX\"]) == \"O\", \"Os wins\"\n",
    "\n",
    "    assert checkio([\n",
    "\n",
    "        \"OOX\",\n",
    "\n",
    "        \"XXO\",\n",
    "\n",
    "        \"OXX\"]) == \"D\", \"Draw\"\n",
    "\n",
    "    assert checkio([\n",
    "\n",
    "        \"O.X\",\n",
    "\n",
    "        \"XX.\",\n",
    "\n",
    "        \"XOO\"]) == \"X\", \"Xs wins again\"\n",
    "\n",
    "    print(\"Coding complete? Click 'Check' to review your tests and earn cool rewards!\")\n",
    "\n"
   ]
  },
  {
   "cell_type": "markdown",
   "metadata": {},
   "source": [
    "# sort array elements by element frequency"
   ]
  },
  {
   "cell_type": "code",
   "execution_count": 35,
   "metadata": {},
   "outputs": [
    {
     "data": {
      "text/plain": [
       "[4, 4, 4, 4, 6, 6, 2, 2]"
      ]
     },
     "execution_count": 35,
     "metadata": {},
     "output_type": "execute_result"
    }
   ],
   "source": [
    "def frequency_sort(items):\n",
    "    dicta = {}\n",
    "    for i in items: dicta[i] = 0\n",
    "    for i in items: dicta[i] += 1\n",
    "    sorted_list = [pair for pair in \n",
    "                   sorted(dicta.items(), key=lambda item: item[1], reverse = True)]\n",
    "    output = []\n",
    "    for i in sorted_list:\n",
    "        for j in range(i[1]): output.append(i[0])\n",
    "    \n",
    "    return output\n",
    "\n",
    "frequency_sort([4, 6, 2, 2, 6, 4, 4, 4])"
   ]
  },
  {
   "cell_type": "markdown",
   "metadata": {},
   "source": [
    "# The most wanted letter"
   ]
  },
  {
   "cell_type": "code",
   "execution_count": 78,
   "metadata": {},
   "outputs": [
    {
     "data": {
      "text/plain": [
       "'a'"
      ]
     },
     "execution_count": 78,
     "metadata": {},
     "output_type": "execute_result"
    }
   ],
   "source": [
    "def checkio(text: str) -> str:\n",
    "    #extract JUST the letters in a text and make them lowercase\n",
    "    new_text = ''.join(char for char in text.lower() if char.isalpha())\n",
    "    \n",
    "    # Initialize and fill dictionary with letters\n",
    "    dicta = {}\n",
    "    for i in new_text: dicta[i] = 0\n",
    "    for i in new_text: dicta[i] += 1\n",
    "    \n",
    "    # Sort dictionary and turn into list which is ordered in terms of descending frequency.\n",
    "    sorted_list = sorted(dicta.items(), key=lambda item: item[1], reverse = True)\n",
    "    \n",
    "    # Retrieve most frequent letter\n",
    "    max_value = sorted_list[0][1]\n",
    "\n",
    "    #In the case that there are multiple characters which are most frequent, list these alphabetically to extract the character which comes first. \n",
    "    alphabetical = []\n",
    "    for i in sorted_list:\n",
    "        if i[1] == max_value: alphabetical.append(i[0])\n",
    "    \n",
    "    # grab 0th element of the alphabetical order, which is the final answer. \n",
    "    output = sorted(alphabetical)[0]\n",
    "    return output\n",
    "\n",
    "checkio(\"AAaOOops!\")"
   ]
  },
  {
   "cell_type": "markdown",
   "metadata": {},
   "source": [
    "# Pawn brotherhood "
   ]
  },
  {
   "cell_type": "code",
   "execution_count": 177,
   "metadata": {},
   "outputs": [
    {
     "data": {
      "text/plain": [
       "6"
      ]
     },
     "execution_count": 177,
     "metadata": {},
     "output_type": "execute_result"
    }
   ],
   "source": [
    "def safe_pawns(pawns: set) -> int:\n",
    "    pawns1 = list(pawns)\n",
    "    safecount = 0\n",
    "    \n",
    "    for i in pawns1:\n",
    "        for j in pawns1:\n",
    "            safecount_piece = 0\n",
    "            if int(i[1]) == (int(j[1])+1):\n",
    "                \n",
    "                if ord(i[0]) == ((ord(j[0]))-1):\n",
    "                    safecount_piece =1\n",
    "                    break\n",
    "                if ord(i[0]) == ((ord(j[0]))+1):\n",
    "                    safecount_piece =1\n",
    "                    break\n",
    "        if safecount_piece == 1:\n",
    "            safecount += 1\n",
    "    #if safecount > 0:\n",
    "    #    return safecount - 1\n",
    "    return safecount\n",
    "#count safe:\n",
    "#safe if position is on previous rank and one position to the side \n",
    "\n",
    "safe_pawns([\"b4\",\"d4\",\"f4\",\"c3\",\"e3\",\"g5\",\"d2\"])\n"
   ]
  },
  {
   "cell_type": "markdown",
   "metadata": {},
   "source": [
    "# The warriors. The problem can be resolved by just stating {if unit = knight: win. If both are knight, the first who attacks wins.} (because hp is identical). "
   ]
  },
  {
   "cell_type": "code",
   "execution_count": 208,
   "metadata": {},
   "outputs": [],
   "source": [
    "class Warrior:\n",
    "    hp = 50\n",
    "    attack = 5\n",
    "    pass\n",
    "\n",
    "class Knight(Warrior):\n",
    "    attack = 7\n",
    "    pass\n",
    "\n",
    "def fight(unit_1, unit_2):\n",
    "    rounda = 0\n",
    "    turn = 1\n",
    "    hp1 = unit_1.hp\n",
    "    hp2 = unit_2.hp\n",
    "    while hp1 > 0 or hp2 > 0:\n",
    "        rounda += 1\n",
    "        print(\"round\", rounda)\n",
    "\n",
    "        if turn == 1:\n",
    "            hp2 -= unit_1.attack\n",
    "            print('hp 2', hp2)\n",
    "            if hp2<=0:\n",
    "                unit_1.is_alive = True\n",
    "                unit_2.is_alive = False\n",
    "                return unit_1.is_alive\n",
    "            turn -= 1\n",
    "        if turn == 0:\n",
    "            hp1 -= unit_2.attack\n",
    "            print('hp 1', hp1)\n",
    "            if hp1<=0:\n",
    "                unit_1.is_alive = False\n",
    "                unit_2.is_alive = True\n",
    "                return unit_1.is_alive\n",
    "            turn += 1\n",
    "            continue\n"
   ]
  },
  {
   "cell_type": "code",
   "execution_count": 210,
   "metadata": {},
   "outputs": [
    {
     "data": {
      "text/plain": [
       "False"
      ]
     },
     "execution_count": 210,
     "metadata": {},
     "output_type": "execute_result"
    }
   ],
   "source": []
  },
  {
   "cell_type": "code",
   "execution_count": null,
   "metadata": {},
   "outputs": [],
   "source": []
  }
 ],
 "metadata": {
  "kernelspec": {
   "display_name": "Python 3",
   "language": "python",
   "name": "python3"
  },
  "language_info": {
   "codemirror_mode": {
    "name": "ipython",
    "version": 3
   },
   "file_extension": ".py",
   "mimetype": "text/x-python",
   "name": "python",
   "nbconvert_exporter": "python",
   "pygments_lexer": "ipython3",
   "version": "3.7.3"
  }
 },
 "nbformat": 4,
 "nbformat_minor": 2
}
