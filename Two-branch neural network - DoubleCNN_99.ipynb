{
 "cells": [
  {
   "cell_type": "code",
   "execution_count": 4,
   "metadata": {},
   "outputs": [
    {
     "name": "stderr",
     "output_type": "stream",
     "text": [
      "Using TensorFlow backend.\n"
     ]
    }
   ],
   "source": [
    "#Imports\n",
    "\n",
    "# base\n",
    "import numpy as np\n",
    "import pandas as pd\n",
    "from scipy import stats\n",
    "\n",
    "# keras \n",
    "from keras.models import Sequential\n",
    "from keras.layers import Dense\n",
    "from keras.layers import Dropout\n",
    "from keras.callbacks import EarlyStopping\n",
    "from keras.optimizers import Adam\n",
    "\n",
    "# sklearn\n",
    "from sklearn.model_selection import train_test_split\n",
    "from sklearn.metrics import confusion_matrix\n",
    "from sklearn.preprocessing import StandardScaler"
   ]
  },
  {
   "cell_type": "markdown",
   "metadata": {},
   "source": [
    "Notes: Next steps include omission of variables in the soundfiles. Need to analyse the channels in the soundfile. Standardscaler for images seem to not do anything sensible. \n",
    "\n",
    "Current best results range between 99.08% - 99.18% accuracy. Baseline (when every prediction is set to false) is around 90%. "
   ]
  },
  {
   "cell_type": "markdown",
   "metadata": {},
   "source": [
    "# 1.1 Load Data"
   ]
  },
  {
   "cell_type": "code",
   "execution_count": 72,
   "metadata": {},
   "outputs": [],
   "source": [
    "#load datafiles\n",
    "written_train_input = np.load(\"written_train.npy\", allow_pickle=True)\n",
    "spoken_train_input = np.load(\"spoken_train.npy\", allow_pickle=True)\n",
    "match_train_input = np.load(\"match_train.npy\", allow_pickle=True)"
   ]
  },
  {
   "cell_type": "markdown",
   "metadata": {},
   "source": [
    "# 1.2 Data Exploration"
   ]
  },
  {
   "cell_type": "code",
   "execution_count": 73,
   "metadata": {},
   "outputs": [
    {
     "name": "stdout",
     "output_type": "stream",
     "text": [
      "written_train_input: (45000, 784)\n",
      "[255 254 254 255 254 253 255 254 255 255 255 255 255 254 251 254 255 255\n",
      " 255 255 253 255 255 255 255 255 255 255 255 255 254 255 255 255 253 255\n",
      " 255 253 254 255 255 255 255 255 255 255 252 255 253 254 250 254 255 250\n",
      " 255 255 255 253 255 255 255 255 252 255 251 255 255 255 255 253 255 255\n",
      " 251 254 255 254 255 255 250 255 254 255 255 255 253 254 255 254 254 254\n",
      " 255 253 255 255 255 249 255 255 255 255 254 255 254 254 255 255 254 253\n",
      " 254 253 255 255 255 252 255 255 255 255 255 255 255 255 254 255 254 243\n",
      " 128  63 137 251 255 255 254 255 255 255 255 255 255 255 252 254 255 252\n",
      " 255 251 253 252 255 255 255 255 241  82   3   2   0  66 219 255 255 251\n",
      " 253 253 255 255 255 253 255 254 255 253 255 255 255 255 255 254 255 253\n",
      " 120   2   0   4  46   2  31 219 255 255 255 255 253 255 254 254 255 255\n",
      " 253 254 255 255 253 254 255 255 255 186   3   3  71 148 251 158   4 167\n",
      " 255 253 253 255 255 255 255 254 254 255 252 251 252 255 255 255 255 255\n",
      " 254 132   4   6 222 255 249 255  13  94 254 255 253 254 249 255 255 255\n",
      " 255 255 254 254 251 251 255 253 254 254 255  46   3  63 248 255 255 255\n",
      "  49  15 213 254 255 255 255 255 255 255 251 254 253 254 252 255 255 255\n",
      " 255 253 167   0   3 131 255 254 255 254 122   2 194 253 255 254 252 254\n",
      " 255 255 255 255 253 254 253 255 254 255 255 255  53   0  44 255 254 255\n",
      " 253 255 123   1  91 255 254 255 255 254 253 255 253 255 255 255 251 255\n",
      " 251 255 255 213  20   4  79 255 255 254 253 255 155   1  93 254 253 255\n",
      " 254 253 255 255 254 253 255 254 255 252 255 253 255 152   4   3 202 252\n",
      " 255 255 252 255 184   2  92 253 254 254 252 254 254 252 255 255 255 255\n",
      " 255 255 255 255 255  86   4  29 255 253 251 255 253 254  57   1 105 255\n",
      " 255 254 252 255 255 255 255 255 253 255 253 255 255 255 242  28   0 124\n",
      " 255 255 255 252 255 255  13   0 196 254 254 255 254 253 253 255 254 255\n",
      " 254 253 254 255 252 253 237   0   2 123 255 253 255 253 252 216  10  21\n",
      " 222 252 253 255 255 255 254 255 255 254 255 255 253 253 255 255 231   4\n",
      "   3 123 255 255 255 255 255 148   1 116 255 255 254 254 255 254 255 255\n",
      " 254 255 254 254 255 255 255 253 234   2   2 125 251 255 255 255 212  16\n",
      "   7 187 253 254 251 253 252 255 255 251 255 255 252 254 255 255 255 254\n",
      " 233   1   2 127 255 255 255 192  42   2 101 254 255 254 254 254 253 251\n",
      " 255 255 253 255 255 254 255 255 255 255 231   2   0 125 252 252 246  58\n",
      "   1   8 243 254 254 255 254 254 252 255 253 255 255 255 255 255 254 253\n",
      " 253 255 237  20   0  49  97  99  17   0  45 198 255 255 254 253 254 254\n",
      " 255 255 255 253 255 255 250 255 254 255 254 254 253 127   3   1   2   0\n",
      "   0  48 172 255 252 255 250 255 253 254 254 254 254 255 253 254 255 254\n",
      " 255 255 254 252 254 246 138  12   0   1 148 241 254 254 255 255 255 255\n",
      " 255 255 255 255 255 254 255 255 255 255 255 254 255 251 255 253 255 255\n",
      " 255 254 255 255 253 250 253 255 255 255 255 253 255 253 252 255 255 255\n",
      " 253 253 253 252 254 252 255 254 255 255 254 255 255 254 255 250 255 255\n",
      " 255 255 255 251 255 251 255 252 252 255 255 255 255 254 254 254 255 255\n",
      " 255 255 252 255 255 255 255 255 252 255 254 254 254 255 253 252 254 255\n",
      " 255 255 252 253 254 255 255 251 255 254 255 255 254 253 253 254 254 255\n",
      " 255 254 255 255 253 255 254 255 255 255]\n",
      "\n",
      "spoken_train_input: (45000,)\n",
      "[[ 1.3085e+00 -9.3684e-02 -1.1652e-01 -2.0097e-02 -1.4939e-01 -1.6002e+00\n",
      "  -5.9698e-01 -2.3489e-01  9.7998e-01  5.0539e-01  2.7130e-01 -1.0654e-01\n",
      "  -6.9459e-01]\n",
      " [ 1.4695e+00  2.3906e-01  2.5311e-01  1.5213e-02  8.8486e-03 -1.3117e+00\n",
      "  -8.4330e-01 -2.2086e-01  4.7642e-01  2.5476e-01  1.7071e-01  1.6774e-01\n",
      "  -3.0055e-01]\n",
      " [ 1.7111e+00 -2.4491e-01 -2.4088e-01  7.3326e-02  5.2667e-02 -1.2045e+00\n",
      "  -5.0705e-01  3.5515e-01  9.2298e-01  1.1164e-01 -4.3643e-02 -7.0873e-01\n",
      "  -1.7677e-01]\n",
      " [ 6.9706e-01 -1.8179e-01  5.0320e-01 -1.0338e-01 -3.2459e-01 -1.3660e+00\n",
      "  -6.7436e-01  7.6640e-01  5.2550e-01 -2.6257e-01 -5.6752e-01 -9.0473e-02\n",
      "  -4.4221e-02]\n",
      " [ 1.4683e+00 -6.4614e-02  2.0234e-01 -4.3626e-01  3.9770e-02 -1.1046e+00\n",
      "  -6.3485e-01  1.0231e+00  1.0167e+00 -2.3580e-01 -3.9499e-01 -7.6785e-01\n",
      "   8.0565e-02]\n",
      " [ 1.8114e+00 -3.7599e-01  3.1930e-01 -3.2854e-01  1.8531e-02 -1.2204e+00\n",
      "  -3.9004e-01  9.2505e-01  9.8808e-01 -4.6377e-01 -5.8217e-02 -6.2877e-01\n",
      "  -4.7994e-02]\n",
      " [ 1.4744e+00 -9.2785e-02  8.2321e-02 -1.5147e-01 -3.1759e-01 -6.3312e-01\n",
      "  -4.8231e-01  9.7187e-01  7.4116e-01 -4.0543e-01 -1.1312e+00 -3.6571e-01\n",
      "   2.1717e-01]\n",
      " [ 1.0814e+00 -1.7449e-01  1.4467e-01 -2.5962e-01  1.5621e-01 -8.3754e-01\n",
      "   6.7563e-02 -2.5325e-03  6.6832e-01 -9.6179e-02 -8.6709e-01 -2.9600e-01\n",
      "   2.0582e-01]\n",
      " [ 1.4708e+00 -5.1680e-02 -6.4713e-01  2.7767e-01  2.9596e-01 -7.2032e-01\n",
      "  -2.2461e-01  1.4105e-01  1.1375e+00  1.2397e-01 -4.4865e-01 -1.5814e-01\n",
      "  -4.3023e-01]\n",
      " [ 1.7969e+00 -6.6728e-01  4.5340e-02  3.9665e-01 -1.6871e-01 -2.0301e+00\n",
      "  -4.9386e-01 -2.7563e-01  2.1231e+00 -4.7630e-01  1.3514e+00 -5.9872e-03\n",
      "  -8.0815e-01]\n",
      " [ 1.3847e+00 -6.5232e-01  6.3215e-01  1.5495e-01  2.0189e-01 -2.1416e+00\n",
      "  -3.6116e-02 -1.1864e-01  1.8015e+00  1.9220e-01  4.6136e-01  3.2594e-01\n",
      "  -8.9106e-01]\n",
      " [ 1.3000e+00 -8.7067e-02 -2.9342e-01  4.7281e-01  4.0023e-02 -1.8691e+00\n",
      "   1.5873e-01  4.4569e-02  1.3650e+00  1.3367e-02  2.8504e-01  1.6629e-01\n",
      "  -9.0081e-01]\n",
      " [ 1.3473e+00 -2.3429e-01 -3.0842e-02  2.6577e-01  1.1320e-01 -1.6960e+00\n",
      "   1.1057e-01 -4.4510e-01  9.5736e-01 -1.8842e-01 -2.3960e-01 -1.0605e-01\n",
      "  -3.3597e-01]\n",
      " [ 9.9754e-01 -3.6377e-01  2.4288e-01 -5.3722e-02 -1.2527e-03 -8.0577e-01\n",
      "  -4.2249e-01  1.7891e-01  7.1901e-01 -6.1435e-01 -5.7273e-01 -3.0472e-01\n",
      "   5.0062e-01]\n",
      " [ 1.1983e+00 -3.5037e-01  2.8141e-01 -2.1898e-01 -3.8646e-01 -7.3961e-01\n",
      "  -7.8281e-01  4.1206e-01  5.0234e-01 -5.9525e-01 -9.6270e-01 -1.9421e-01\n",
      "   8.5701e-01]\n",
      " [ 7.2703e-01 -3.6402e-01  6.5805e-01 -3.9992e-01 -1.3997e-01 -4.2730e-01\n",
      "  -7.3525e-01  5.3009e-01  6.3062e-01 -7.2823e-01 -1.2520e+00  1.0525e-01\n",
      "   9.2799e-01]\n",
      " [ 7.2087e-01 -7.2821e-01  5.2604e-01 -5.2566e-01 -1.0623e-01 -6.3534e-01\n",
      "  -8.2690e-02  7.1056e-02  1.0088e+00 -6.7662e-01 -1.4641e+00 -1.5028e-01\n",
      "   9.3039e-01]\n",
      " [ 2.8323e-01 -1.1437e+00 -5.8830e-02 -3.0753e-01 -1.9947e-01 -9.9433e-01\n",
      "  -3.5207e-01  2.4276e-01  1.0201e+00 -4.3272e-01 -6.7057e-01  2.3611e-02\n",
      "   8.7388e-01]\n",
      " [ 1.5342e-01 -6.9816e-01  2.0902e-01 -5.9554e-01 -3.1601e-02 -4.5443e-01\n",
      "  -6.2055e-01  6.3929e-01  8.2361e-01 -3.7438e-01 -7.9016e-01 -4.0556e-01\n",
      "   9.8443e-01]\n",
      " [ 7.4036e-01 -1.1173e+00 -4.5559e-01 -3.3973e-01  2.7081e-01 -7.2842e-01\n",
      "  -4.7057e-01  6.5359e-01  1.1374e+00 -5.6070e-01 -3.9169e-01 -8.3772e-01\n",
      "   7.9640e-01]\n",
      " [ 1.0678e-01 -7.8348e-01  4.2952e-02 -1.6596e-01 -6.9181e-02 -6.3137e-01\n",
      "  -4.7370e-01  3.5179e-01  8.8910e-01 -2.3738e-01 -8.6326e-01 -2.7626e-01\n",
      "   8.4081e-01]\n",
      " [ 8.8410e-02 -5.6217e-01  1.0053e-01 -1.4891e-01 -3.0799e-01 -3.6839e-01\n",
      "  -6.8304e-01  1.4113e-01  1.0993e+00 -1.1525e-01 -1.4061e+00 -1.6109e-01\n",
      "   1.1110e+00]\n",
      " [-5.0262e-02 -6.2192e-01  3.3529e-01  1.6389e-01 -3.9293e-01 -2.4420e-01\n",
      "  -7.2794e-01  2.3776e-01  9.3110e-01 -1.5117e-01 -1.5029e+00 -2.7540e-01\n",
      "   1.1721e+00]\n",
      " [ 3.1374e-02 -5.1039e-01  2.7266e-01 -1.9329e-01 -3.6535e-02 -4.1414e-01\n",
      "  -9.4305e-01 -2.4776e-01  1.0864e+00 -2.6734e-01 -1.0136e+00 -5.8226e-01\n",
      "   1.3991e+00]\n",
      " [ 8.8288e-01 -5.8662e-01  3.7392e-01  3.9983e-01 -3.3346e-01 -1.4673e+00\n",
      "  -1.3123e+00 -9.3646e-01  6.2913e-01  8.3017e-02 -7.1140e-01 -4.8124e-01\n",
      "   1.0521e+00]\n",
      " [ 1.3268e+00 -7.1814e-01 -4.5061e-01  3.6964e-01 -3.5433e-01 -2.2051e+00\n",
      "  -4.4872e-01 -7.5456e-01  1.3414e+00 -2.4364e-01  1.7209e-02  3.6022e-01\n",
      "  -1.1405e+00]\n",
      " [ 1.1548e+00  1.3186e+00  8.7867e-02  1.1070e-01  5.6623e-01 -2.5873e+00\n",
      "  -4.6352e-01  1.0434e+00  7.5311e-02 -1.5425e-01  5.3895e-02 -9.0027e-01\n",
      "  -3.4358e+00]\n",
      " [ 1.0825e+00  8.1726e-01 -1.0590e-01  2.2176e-01  4.1842e-01 -2.4401e+00\n",
      "  -5.2671e-01  6.4205e-01  4.8362e-01 -4.8791e-01  1.7679e-01 -9.4594e-01\n",
      "  -3.8229e+00]\n",
      " [ 1.6178e+00  4.0554e-01 -3.2272e-01 -2.9405e-01  5.0901e-02 -2.0808e+00\n",
      "  -2.7594e-01  1.0154e+00  5.2518e-01 -9.2619e-01  6.7906e-01 -1.2063e+00\n",
      "  -4.2897e+00]\n",
      " [ 8.0240e-01  6.7238e-01  4.1820e-01  3.4744e-01  3.6218e-01 -2.5843e+00\n",
      "  -1.2158e-01  8.3809e-01  5.4817e-01 -3.3668e-01  7.8722e-02 -3.3393e-01\n",
      "  -4.0640e+00]\n",
      " [ 6.1821e-01  7.0722e-01  4.1462e-01  3.5539e-01  7.7292e-01 -2.6775e+00\n",
      "  -3.5420e-01  6.4599e-01  4.4673e-01 -1.7338e-01 -1.6580e-01 -4.1454e-01\n",
      "  -3.9081e+00]\n",
      " [ 9.9760e-01  6.4782e-02  2.3178e-01 -4.5483e-01 -1.8695e-01 -3.4744e+00\n",
      "   3.3220e-01  1.0055e+00  8.2962e-01  2.1790e-01 -2.5615e-01  7.4374e-02\n",
      "  -3.2516e+00]\n",
      " [ 8.5951e-01 -3.7109e-01  1.2393e-01  1.2145e-01  5.5748e-01 -2.8669e+00\n",
      "  -5.1365e-01  2.7137e-01  7.3753e-01 -6.3776e-01 -2.2475e-01 -2.7680e-02\n",
      "  -3.7721e+00]\n",
      " [ 1.4936e+00 -3.0609e-01 -1.1113e+00 -2.2874e-01 -6.3421e-01 -1.8024e+00\n",
      "  -1.7881e-01  2.0489e-03  6.6997e-01 -3.4239e-01  2.6480e-01 -8.6040e-02\n",
      "  -2.2884e+00]\n",
      " [ 1.7488e+00 -8.5633e-01 -3.8653e-01 -1.2771e-01 -2.8452e-01 -9.8546e-01\n",
      "  -5.3673e-01  6.6093e-02  1.1641e+00 -5.1685e-01 -2.0623e-01 -3.0424e-01\n",
      "  -5.2045e-01]\n",
      " [ 3.8885e-01 -5.3813e-01 -4.5056e-01 -2.4148e-01 -3.2212e-01 -6.3005e-01\n",
      "  -7.9997e-01 -2.3107e-01  1.3417e+00 -4.4545e-01 -9.6133e-01 -3.3098e-01\n",
      "   5.3478e-01]\n",
      " [ 6.3466e-01 -6.7282e-01 -5.4076e-02  1.8563e-01 -4.7715e-01 -1.1907e+00\n",
      "  -5.6570e-01 -3.3654e-01  1.0663e+00 -6.2059e-01 -1.0605e+00 -8.5418e-01\n",
      "   7.6893e-01]\n",
      " [ 5.2900e-01 -6.6554e-01 -3.3944e-01  4.2034e-01 -2.3127e-01 -9.3255e-01\n",
      "  -6.1733e-01 -5.9097e-03  1.3018e+00 -1.0900e+00 -1.2673e+00 -6.7581e-01\n",
      "   6.4089e-01]\n",
      " [ 7.2335e-01 -7.1688e-01 -6.6444e-01  2.6400e-01 -2.9205e-01 -1.0032e+00\n",
      "  -4.5135e-01  1.9326e-01  1.2207e+00 -9.3379e-01 -1.1235e+00 -5.3314e-01\n",
      "   2.2105e-01]\n",
      " [ 5.1876e-01 -5.9900e-01 -6.6897e-01  2.3325e-01 -3.1478e-01 -1.0943e+00\n",
      "  -2.6972e-01  3.5208e-01  9.2022e-01 -5.6738e-01 -1.2646e+00  2.0291e-01\n",
      "  -9.0677e-02]\n",
      " [ 7.4524e-01 -2.8036e-01 -3.5109e-01  6.3555e-02 -6.6412e-01 -1.0825e+00\n",
      "  -3.0308e-01  7.5876e-01  8.6978e-01 -7.8160e-01 -1.4736e+00 -9.6380e-02\n",
      "  -3.8491e-01]]\n",
      "\n",
      "match_train_input: (45000,)\n",
      "False\n"
     ]
    }
   ],
   "source": [
    "print('written_train_input:', written_train_input.shape)\n",
    "print(written_train_input[0])\n",
    "print()\n",
    "print('spoken_train_input:', spoken_train_input.shape)\n",
    "print(spoken_train_input[0])\n",
    "print()\n",
    "print('match_train_input:', match_train_input.shape)\n",
    "print(match_train_input[0])"
   ]
  },
  {
   "cell_type": "code",
   "execution_count": 74,
   "metadata": {},
   "outputs": [
    {
     "name": "stdout",
     "output_type": "stream",
     "text": [
      "[ 1.3085   -0.093684 -0.11652  -0.020097 -0.14939  -1.6002   -0.59698\n",
      " -0.23489   0.97998   0.50539   0.2713   -0.10654  -0.69459 ]\n",
      "[ 1.4695     0.23906    0.25311    0.015213   0.0088486 -1.3117\n",
      " -0.8433    -0.22086    0.47642    0.25476    0.17071    0.16774\n",
      " -0.30055  ]\n",
      "length element [0][0]: 13\n",
      "length element [0][1]: 13\n",
      "length element [0][:]: 41\n",
      "length element [5][:]: 28\n"
     ]
    }
   ],
   "source": [
    "print(spoken_train_input[0][0])\n",
    "print(spoken_train_input[0][1])\n",
    "\n",
    "print('length element [0][0]:', len(spoken_train_input[0][0]))\n",
    "print('length element [0][1]:', len(spoken_train_input[0][1]))\n",
    "\n",
    "print('length element [0][:]:', len(spoken_train_input[0][:]))\n",
    "print('length element [5][:]:', len(spoken_train_input[5][:]))"
   ]
  },
  {
   "cell_type": "markdown",
   "metadata": {},
   "source": [
    "Observations:\n",
    "- written_train contains black and white pixel values as numpy arrays. There are 45000 inputs, with the length 784. These 784 pixels have to be reshaped to a 28x28 format if we want to use CNN's. \n",
    "\n",
    "- spoken_train has an 'array of arrays' format. These arrays have to be unpacked to parse them through any type of ML model. The shape of spoken_train: (45000,). Spoken_train contains 13 sound channels, conform the 'xyz' format. Each soundfile has a varying length. So the essential format is (45000, 13, N), where N equals the length of the soundfile.\n",
    "\n",
    "- match_train_input (45000) solely consists of TRUE and FALSE to tell us whether the n'th written file matches the n'th spoken file. \n",
    "\n"
   ]
  },
  {
   "cell_type": "markdown",
   "metadata": {},
   "source": [
    "Graph:"
   ]
  },
  {
   "cell_type": "code",
   "execution_count": 75,
   "metadata": {},
   "outputs": [],
   "source": [
    "import matplotlib.pyplot as plt "
   ]
  },
  {
   "cell_type": "code",
   "execution_count": 107,
   "metadata": {},
   "outputs": [
    {
     "data": {
      "image/png": "[encoded data removed]",
      "text/plain": [
       "<Figure size 720x720 with 36 Axes>"
      ]
     },
     "metadata": {
      "needs_background": "light"
     },
     "output_type": "display_data"
    }
   ],
   "source": [
    "# Visualize the first image from the training dataset\n",
    "written_train_graph = np.reshape(written_train_input, (written_train_input.shape[0], 28,28))\n",
    "\n",
    "# first 36 written files\n",
    "plt.figure(figsize=(10,10))\n",
    "for i in range(36):\n",
    "    plt.subplot(6,6, i+1)\n",
    "    plt.grid(False)\n",
    "    plt.imshow(written_train_graph[i], cmap=plt.cm.binary)"
   ]
  },
  {
   "cell_type": "markdown",
   "metadata": {},
   "source": [
    "Important note; there seem to be artifacts in some images. Find means to eliminate these? Not implemented yet"
   ]
  },
  {
   "cell_type": "markdown",
   "metadata": {},
   "source": [
    "# 1.3 Preprocessing data"
   ]
  },
  {
   "cell_type": "markdown",
   "metadata": {},
   "source": [
    "Preprocess written dataset / i.e. pixels:"
   ]
  },
  {
   "cell_type": "code",
   "execution_count": 77,
   "metadata": {},
   "outputs": [],
   "source": [
    "#preprocess and apply standardscaler to the 'written' dataset. Scales according to z-values/bell-curve. \n",
    "def written_preprocess(written_data):\n",
    "    #transform/rescale pixels from range 0-255 to a range between 0-1.\n",
    "    written_train = written_data/255.0\n",
    "    written_train[written_train>0.95] = 1\n",
    "    written_train[written_train<0.05] = 0\n",
    "    \n",
    "    #apply standardscaler\n",
    "    #sc_w = StandardScaler()\n",
    "    #written_train = sc_w.fit_transform(written_data)\n",
    "    return written_train\n",
    "\n",
    "written_train = written_preprocess(written_train_input)"
   ]
  },
  {
   "cell_type": "markdown",
   "metadata": {},
   "source": [
    "Preprocess spoken dataset / i.e. soundfiles. Contains padding and extends soundfiles to perform a CNN model on them. The aim is to treat the sound as an 13-color channel image:"
   ]
  },
  {
   "cell_type": "code",
   "execution_count": 78,
   "metadata": {},
   "outputs": [],
   "source": [
    "def spoken_preprocess(spoken_data):\n",
    "    #to be able to analyse the 45000 soundfiles, they all have to be equally long in size for any ML model to work.\n",
    "    #PADDING:\n",
    "    \n",
    "    #pad 0's to all length arrays which are shorter than the longest array\n",
    "    create_same_lengths = True\n",
    "    \n",
    "    if create_same_lengths:\n",
    "        lengths_spoken = np.empty(len(spoken_data))\n",
    "        for index, value in enumerate(spoken_data):\n",
    "            lengths_spoken[index] = value.shape[0]\n",
    "        \n",
    "        sorted_lengths = np.sort(lengths_spoken)\n",
    "        longest_length = sorted_lengths[-1]\n",
    "        \n",
    "        padden_spoken = []\n",
    "        \n",
    "        # Fill the empty array created above\n",
    "        N = longest_length\n",
    "        for sound in spoken_train_input:\n",
    "    \n",
    "            if sound.shape[0] < N:\n",
    "                pad_size = N - sound.shape[0]\n",
    "                length = sound.shape[1]\n",
    "                \n",
    "                pad_array = np.zeros((13,), dtype=np.int)\n",
    "                x = np.tile(pad_array, (int(pad_size),1))\n",
    "                sound = np.concatenate((sound, x), axis=0)\n",
    "                padden_spoken.append(sound)\n",
    "            else:\n",
    "                padden_spoken.append(sound)\n",
    "    \n",
    "    \n",
    "    #transform the list of all padded arrays to a numpy array and reshape to flat arrays            \n",
    "    spoken_train_feat = np.array(padden_spoken).reshape(spoken_train_input.shape[0],int(N),13)\n",
    "    \n",
    "    ######### --------------------  EXPERIMENTAL PART ------------------------ ##########\n",
    "    # deletes one or more of the channels.\n",
    "    \n",
    "    #spoken_train_feat = spoken_train_feat[:][:][:12]\n",
    "    b = np.zeros((spoken_train_feat.shape[0],100,spoken_train_feat.shape[2]))\n",
    "    b[:,:-7] = spoken_train_feat\n",
    "    spoken_train_feat = b\n",
    "    \n",
    "    del b\n",
    "    ######### --------------------  EXPERIMENTAL PART ------------------------ ##########\n",
    "    \n",
    "    spoken_train = spoken_train_feat.reshape(spoken_train_feat.shape[0],spoken_train_feat.shape[1]\\\n",
    "                                           * spoken_train_feat.shape[2])\n",
    "    \n",
    "    from sklearn.preprocessing import MinMaxScaler\n",
    "    sc_s = StandardScaler(with_mean=False)\n",
    "    \n",
    "    spoken_scaled = sc_s.fit_transform(spoken_train)\n",
    "    spoken_train_feat_image = np.reshape(spoken_scaled, (spoken_scaled.shape[0],100,13))\n",
    "\n",
    "    return spoken_train_feat_image\n"
   ]
  },
  {
   "cell_type": "code",
   "execution_count": 79,
   "metadata": {},
   "outputs": [],
   "source": [
    "spoken_train_feat_image = spoken_preprocess(spoken_train_input)"
   ]
  },
  {
   "cell_type": "markdown",
   "metadata": {},
   "source": [
    "# The graph below is to help identify patterns in sound to check the behaviour of channels"
   ]
  },
  {
   "cell_type": "code",
   "execution_count": 101,
   "metadata": {},
   "outputs": [],
   "source": [
    "#from matplotlib import cm\n",
    "#\n",
    "#mfcc_feat = spoken_train_feat_image[25]\n",
    "#\n",
    "#ig, ax = plt.subplots()\n",
    "#mfcc_data= np.swapaxes(mfcc_feat, 0 ,1)\n",
    "#cax = ax.imshow(mfcc_data, interpolation='nearest', cmap=cm.coolwarm, origin='lower', aspect='auto')\n",
    "#ax.set_title('MFCC')\n",
    "##Showing mfcc_data\n",
    "#plt.show()\n",
    "##Showing mfcc_feat\n",
    "#plt.plot(mfcc_feat)\n",
    "#plt.show()\n",
    "#\n",
    "#print(spoken_train_feat_image[25][20])"
   ]
  },
  {
   "cell_type": "code",
   "execution_count": 81,
   "metadata": {},
   "outputs": [
    {
     "name": "stdout",
     "output_type": "stream",
     "text": [
      "(45000, 100, 13)\n"
     ]
    }
   ],
   "source": [
    "print(spoken_train_feat_image.shape)"
   ]
  },
  {
   "cell_type": "code",
   "execution_count": 82,
   "metadata": {},
   "outputs": [],
   "source": [
    "spoken_train_feat_image = np.reshape(spoken_train_feat_image, (45000,10,10,13))"
   ]
  },
  {
   "cell_type": "code",
   "execution_count": 83,
   "metadata": {},
   "outputs": [],
   "source": [
    "#concatenate numpy arrays which are both rescaled\n",
    "#features = np.concatenate([spoken_train1,\n",
    "#                           written_train], axis = 1)"
   ]
  },
  {
   "cell_type": "code",
   "execution_count": 84,
   "metadata": {},
   "outputs": [],
   "source": [
    "#create pandas dataframe for visualisation of concatenated arrays\n",
    "#index = range(0, len(features))\n",
    "#columns = range(0,features.shape[1])\n",
    "#\n",
    "#nn = pd.DataFrame(data = features, index=range(0,features.shape[0]), columns=range(0,features.shape[1]))\n",
    "#nn.head()"
   ]
  },
  {
   "cell_type": "code",
   "execution_count": 85,
   "metadata": {},
   "outputs": [],
   "source": [
    "#get values of the arrays to be used in the model\n",
    "#X = nn.values\n",
    "#y = match_train_input\n",
    "#"
   ]
  },
  {
   "cell_type": "code",
   "execution_count": 86,
   "metadata": {},
   "outputs": [],
   "source": [
    "#print(X.shape)\n",
    "#\n",
    "##X[X>2.8] = 2.8\n",
    "##X[X<-2.8] = -2.8\n",
    "#\n",
    "#print(X[4][5])\n",
    "#"
   ]
  },
  {
   "cell_type": "markdown",
   "metadata": {},
   "source": [
    "# 2.1 Initialize ML / NN model"
   ]
  },
  {
   "cell_type": "markdown",
   "metadata": {},
   "source": [
    "For this project we'll be using a two-branch neural network. One branch for image-feature focused ML, and the other branch for sound-feature focused ML.\n",
    "\n",
    "CNN's are the most effective models for image analysis, especially for the MNIST Digit classification purposes.\n",
    "My idea is to treat the soundfiles as images as well. So we'll be applying a CNN model on the soundfiles too. The appropriate preprocessing has been done to facilitate this step.\n",
    "\n",
    "The final step is to join all nodes from both branches to eachother to get the necessary True/False predictions."
   ]
  },
  {
   "cell_type": "code",
   "execution_count": 87,
   "metadata": {},
   "outputs": [],
   "source": [
    "# import the necessary packages\n",
    "from keras.models import Sequential\n",
    "from keras.layers.normalization import BatchNormalization\n",
    "from keras.layers.convolutional import Conv2D\n",
    "from keras.layers.convolutional import MaxPooling2D\n",
    "from keras.layers.core import Activation\n",
    "from keras.layers.core import Dropout\n",
    "from keras.layers.core import Dense\n",
    "from keras.layers import Flatten\n",
    "from keras.layers import Input\n",
    "from keras.models import Model\n",
    " \n"
   ]
  },
  {
   "cell_type": "markdown",
   "metadata": {},
   "source": [
    "# 2.1.1 Sound Trainer Function"
   ]
  },
  {
   "cell_type": "code",
   "execution_count": 108,
   "metadata": {},
   "outputs": [],
   "source": [
    "# Create cnn to analyze soundfiles.\n",
    "def create_mlp(width, height, depth, filters=(16, 32, 64)):\n",
    "    # initialize the input shape and channel dimension, assuming\n",
    "    # TensorFlow/channels-last ordering\n",
    "    inputShape = (height, width, depth)\n",
    "    chanDim = -1\n",
    "    \n",
    "    # define the model input\n",
    "    inputs = Input(shape=inputShape)\n",
    "    \n",
    "    # loop over the number of filters\n",
    "    for (i, f) in enumerate(filters):\n",
    "        \n",
    "        # if this is the first CONV layer then set the input\n",
    "        # appropriately\n",
    "        if i == 0:\n",
    "            x = inputs\n",
    "    \n",
    "        # CONV => RELU => BN => POOL\n",
    "        x = Conv2D(f, (3, 3), padding=\"same\")(x)\n",
    "        x = Activation(\"relu\")(x)\n",
    "        x = BatchNormalization(axis=chanDim)(x)\n",
    "        x = MaxPooling2D(pool_size=(2, 2))(x)\n",
    "\n",
    "    # flatten the volume, then the layers: FC => RELU => BN => DROPOUT\n",
    "    # FC has 1300 nodes; 1 for soundframe\n",
    "    x = Flatten()(x)\n",
    "    x = Dense(1300)(x)\n",
    "    x = Activation(\"relu\")(x)\n",
    "    x = BatchNormalization(axis=chanDim)(x)\n",
    "    x = Dropout(0.5)(x)\n",
    "    \n",
    "    # apply another FC layer, this one to match the number of nodes\n",
    "    # coming out of the other ML model\n",
    "    x = Dense(512)(x)\n",
    "    x = Activation(\"relu\")(x)\n",
    "    \n",
    "    # construct the CNN\n",
    "    model = Model(inputs, x)\n",
    "    \n",
    "    # return the CNN\n",
    "    return model\n",
    "\n"
   ]
  },
  {
   "cell_type": "markdown",
   "metadata": {},
   "source": [
    "# 2.1.2 Image Trainer Function"
   ]
  },
  {
   "cell_type": "code",
   "execution_count": 89,
   "metadata": {},
   "outputs": [],
   "source": [
    "# Create cnn to analyze images\n",
    "def create_cnn(width, height, depth, filters=(16, 32, 64)):\n",
    "    # initialize the input shape and channel dimension, assuming\n",
    "    # TensorFlow/channels-last ordering\n",
    "    inputShape = (height, width, depth)\n",
    "    chanDim = -1\n",
    "    \n",
    "    # define the model input\n",
    "    inputs = Input(shape=inputShape)\n",
    "    \n",
    "    # loop over the number of filters\n",
    "    for (i, f) in enumerate(filters):\n",
    "        # if this is the first CONV layer then set the input\n",
    "        # appropriately\n",
    "        if i == 0:\n",
    "            x = inputs\n",
    "    \n",
    "        # CONV => RELU => BN => POOL\n",
    "        x = Conv2D(f, (3, 3), padding=\"same\")(x)\n",
    "        x = Activation(\"relu\")(x)\n",
    "        x = BatchNormalization(axis=chanDim)(x)\n",
    "        x = MaxPooling2D(pool_size=(2, 2))(x)\n",
    "\n",
    "    # flatten the volume, then FC => RELU => BN => DROPOUT\n",
    "    # FC has 784 nodes; 1 for each pixel. \n",
    "    x = Flatten()(x)\n",
    "    x = Dense(784)(x)\n",
    "    x = Activation(\"relu\")(x)\n",
    "    x = BatchNormalization(axis=chanDim)(x)\n",
    "    x = Dropout(0.5)(x)\n",
    "    \n",
    "    # apply another FC layer, this one to match the number of nodes\n",
    "    # coming out of the other ML model\n",
    "    x = Dense(512)(x)\n",
    "    x = Activation(\"relu\")(x)\n",
    "    \n",
    "    # construct the CNN\n",
    "    model = Model(inputs, x)\n",
    "    \n",
    "    # return the CNN\n",
    "    return model"
   ]
  },
  {
   "cell_type": "code",
   "execution_count": 90,
   "metadata": {},
   "outputs": [],
   "source": [
    "from sklearn.model_selection import train_test_split\n",
    "from keras.layers.core import Dense\n",
    "from keras.models import Model\n",
    "from keras.optimizers import Adam\n",
    "from keras.optimizers import Adamax\n",
    "from keras.layers import concatenate\n",
    "import numpy as np"
   ]
  },
  {
   "cell_type": "code",
   "execution_count": 91,
   "metadata": {},
   "outputs": [
    {
     "name": "stdout",
     "output_type": "stream",
     "text": [
      "(45000, 10, 10, 13)\n",
      "(45000, 784)\n"
     ]
    }
   ],
   "source": [
    "# Check the shapes of the data\n",
    "print(spoken_train_feat_image.shape)\n",
    "print(written_train.shape)"
   ]
  },
  {
   "cell_type": "markdown",
   "metadata": {},
   "source": [
    "# 2.1.3 Split training data into training + val"
   ]
  },
  {
   "cell_type": "markdown",
   "metadata": {},
   "source": [
    "I used a simple split here by just using the first 30000 datapoints of each dataset (written, spoken, match) as training data and the last 15000 datapoints as test data:"
   ]
  },
  {
   "cell_type": "code",
   "execution_count": 92,
   "metadata": {},
   "outputs": [],
   "source": [
    "#from sklearn.model_selection import train_test_split\n",
    "#X_train, X_val, y_train, y_val = train_test_split(X, y, test_size=0.2, random_state=123)\n",
    "\n",
    "spoken_train_feat_image1 = np.reshape(spoken_train_feat_image, (45000,10,10,13))\n",
    "written_train1 = np.reshape(written_train, (written_train.shape[0], 28,28,1))\n",
    "\n",
    "\n",
    "trainAttrX = spoken_train_feat_image1[:30000]\n",
    "valAttrX = spoken_train_feat_image1[30000:]\n",
    "trainImagesX = written_train1[:30000]\n",
    "valImagesX = written_train1[30000:]\n",
    "\n",
    "    \n",
    "#Split target into training and validation data\n",
    "trainY = match_train_input[:30000]\n",
    "valY = match_train_input[30000:]\n"
   ]
  },
  {
   "cell_type": "markdown",
   "metadata": {},
   "source": [
    "# 2.2 Join CNN functions and output"
   ]
  },
  {
   "cell_type": "code",
   "execution_count": 93,
   "metadata": {},
   "outputs": [],
   "source": [
    "# create the MLP and CNN models\n",
    "mlp = create_mlp(10, 10, 13)\n",
    "cnn = create_cnn(28, 28, 1)\n",
    " \n",
    "# create the input to our final set of layers as the output of both\n",
    "# the MLP and CNN\n",
    "combinedInput = concatenate([mlp.output, cnn.output])\n",
    " \n",
    "# our final FC layer head will have two dense layers, the final one\n",
    "# being our regression head\n",
    "x = Dense(100, activation=\"relu\")(combinedInput)\n",
    "x = Dense(1, activation=\"sigmoid\")(x)\n",
    " \n",
    "# our final model will accept categorical/numerical data on the MLP\n",
    "# input and images on the CNN input, outputting a single value (the\n",
    "# predicted price of the house)\n",
    "model = Model(inputs=[mlp.input, cnn.input], outputs=x)"
   ]
  },
  {
   "cell_type": "markdown",
   "metadata": {},
   "source": [
    "# 2.3 Compile and Fit model with Kfold-crossvalidation "
   ]
  },
  {
   "cell_type": "markdown",
   "metadata": {},
   "source": [
    "The Kfold is optional. I need to test performance with and without Kfolds and set them out against eachother in charts to compare. One of the next steps is to automate the script to check whether kfold has any added value compared to just simply splitting the data."
   ]
  },
  {
   "cell_type": "code",
   "execution_count": 94,
   "metadata": {},
   "outputs": [],
   "source": [
    "from sklearn.model_selection import train_test_split\n",
    "from sklearn.model_selection import KFold\n",
    "from sklearn.model_selection import RepeatedKFold, RepeatedStratifiedKFold"
   ]
  },
  {
   "cell_type": "code",
   "execution_count": 95,
   "metadata": {},
   "outputs": [
    {
     "name": "stdout",
     "output_type": "stream",
     "text": [
      "(22499, 10, 10, 13) (22499, 28, 28, 1) (22499,) (7501,)\n",
      "Train on 22499 samples, validate on 7501 samples\n",
      "Epoch 1/3\n",
      "22499/22499 [==============================] - 41s 2ms/step - loss: 0.3366 - acc: 0.8971 - val_loss: 0.2660 - val_acc: 0.9055\n",
      "Epoch 2/3\n",
      "22499/22499 [==============================] - 28s 1ms/step - loss: 0.2268 - acc: 0.9115 - val_loss: 0.1850 - val_acc: 0.9249\n",
      "Epoch 3/3\n",
      "22499/22499 [==============================] - 28s 1ms/step - loss: 0.1474 - acc: 0.9365 - val_loss: 0.1255 - val_acc: 0.9504\n",
      "(22500, 10, 10, 13) (22500, 28, 28, 1) (22500,) (7500,)\n",
      "Train on 22500 samples, validate on 7500 samples\n",
      "Epoch 1/3\n",
      "22500/22500 [==============================] - 28s 1ms/step - loss: 0.0907 - acc: 0.9657 - val_loss: 0.0617 - val_acc: 0.9772\n",
      "Epoch 2/3\n",
      "22500/22500 [==============================] - 28s 1ms/step - loss: 0.0457 - acc: 0.9846 - val_loss: 0.0414 - val_acc: 0.9851\n",
      "Epoch 3/3\n",
      "22500/22500 [==============================] - 28s 1ms/step - loss: 0.0279 - acc: 0.9908 - val_loss: 0.0352 - val_acc: 0.9889\n",
      "(22500, 10, 10, 13) (22500, 28, 28, 1) (22500,) (7500,)\n",
      "Train on 22500 samples, validate on 7500 samples\n",
      "Epoch 1/3\n",
      "22500/22500 [==============================] - 28s 1ms/step - loss: 0.0267 - acc: 0.9902 - val_loss: 0.0204 - val_acc: 0.9936\n",
      "Epoch 2/3\n",
      "22500/22500 [==============================] - 28s 1ms/step - loss: 0.0171 - acc: 0.9943 - val_loss: 0.0186 - val_acc: 0.9932\n",
      "Epoch 3/3\n",
      "22500/22500 [==============================] - 28s 1ms/step - loss: 0.0119 - acc: 0.9963 - val_loss: 0.0151 - val_acc: 0.9945\n",
      "(22501, 10, 10, 13) (22501, 28, 28, 1) (22501,) (7499,)\n",
      "Train on 22501 samples, validate on 7499 samples\n",
      "Epoch 1/3\n",
      "22501/22501 [==============================] - 28s 1ms/step - loss: 0.0144 - acc: 0.9952 - val_loss: 0.0027 - val_acc: 0.9997\n",
      "Epoch 2/3\n",
      "22501/22501 [==============================] - 28s 1ms/step - loss: 0.0089 - acc: 0.9971 - val_loss: 0.0040 - val_acc: 0.9985\n",
      "Epoch 3/3\n",
      "22501/22501 [==============================] - 28s 1ms/step - loss: 0.0058 - acc: 0.9982 - val_loss: 0.0055 - val_acc: 0.9988\n",
      "(22499, 10, 10, 13) (22499, 28, 28, 1) (22499,) (7501,)\n",
      "Train on 22499 samples, validate on 7501 samples\n",
      "Epoch 1/3\n",
      "22499/22499 [==============================] - 28s 1ms/step - loss: 0.0066 - acc: 0.9976 - val_loss: 0.0039 - val_acc: 0.9983\n",
      "Epoch 2/3\n",
      "22499/22499 [==============================] - 28s 1ms/step - loss: 0.0048 - acc: 0.9984 - val_loss: 0.0043 - val_acc: 0.9984\n",
      "Epoch 3/3\n",
      "22499/22499 [==============================] - 28s 1ms/step - loss: 0.0044 - acc: 0.9984 - val_loss: 0.0028 - val_acc: 0.9993\n",
      "(22500, 10, 10, 13) (22500, 28, 28, 1) (22500,) (7500,)\n",
      "Train on 22500 samples, validate on 7500 samples\n",
      "Epoch 1/3\n",
      "22500/22500 [==============================] - 28s 1ms/step - loss: 0.0042 - acc: 0.9985 - val_loss: 0.0019 - val_acc: 0.9993\n",
      "Epoch 2/3\n",
      "22500/22500 [==============================] - 28s 1ms/step - loss: 0.0036 - acc: 0.9985 - val_loss: 0.0014 - val_acc: 0.9995\n",
      "Epoch 3/3\n",
      "22500/22500 [==============================] - 28s 1ms/step - loss: 0.0029 - acc: 0.9990 - val_loss: 0.0028 - val_acc: 0.9996\n",
      "(22500, 10, 10, 13) (22500, 28, 28, 1) (22500,) (7500,)\n",
      "Train on 22500 samples, validate on 7500 samples\n",
      "Epoch 1/3\n",
      "22500/22500 [==============================] - 28s 1ms/step - loss: 0.0037 - acc: 0.9988 - val_loss: 5.6304e-04 - val_acc: 0.9997\n",
      "Epoch 2/3\n",
      "22500/22500 [==============================] - 28s 1ms/step - loss: 0.0041 - acc: 0.9986 - val_loss: 0.0027 - val_acc: 0.9993\n",
      "Epoch 3/3\n",
      "22500/22500 [==============================] - 28s 1ms/step - loss: 0.0025 - acc: 0.9992 - val_loss: 6.6288e-04 - val_acc: 0.9999\n",
      "(22501, 10, 10, 13) (22501, 28, 28, 1) (22501,) (7499,)\n",
      "Train on 22501 samples, validate on 7499 samples\n",
      "Epoch 1/3\n",
      "22501/22501 [==============================] - 28s 1ms/step - loss: 0.0026 - acc: 0.9990 - val_loss: 0.0010 - val_acc: 0.9992\n",
      "Epoch 2/3\n",
      "22501/22501 [==============================] - 28s 1ms/step - loss: 0.0034 - acc: 0.9990 - val_loss: 8.4556e-04 - val_acc: 0.9999\n",
      "Epoch 3/3\n",
      "22501/22501 [==============================] - 28s 1ms/step - loss: 0.0034 - acc: 0.9986 - val_loss: 0.0016 - val_acc: 0.9995\n"
     ]
    }
   ],
   "source": [
    "#prepare cross validation\n",
    "repeatKfold = RepeatedStratifiedKFold(n_splits=4, n_repeats=2, random_state=2)\n",
    "\n",
    "# two optimizers to try\n",
    "opt = Adam(lr=1e-3, decay=1e-3 / 200)\n",
    "optimizer = Adamax(lr=0.002,\n",
    "                 beta_1=0.9, beta_2=0.999)\n",
    "\n",
    "# Compile final ML model\n",
    "model.compile(optimizer = optimizer, loss = 'binary_crossentropy', metrics = ['accuracy'])\n",
    "\n",
    "# train model by means of repeated Kfold\n",
    "for train_index, test_index in repeatKfold.split(trainAttrX, trainY):\n",
    "    trainAttrX9000, testAttrX9000 = trainAttrX[train_index], trainAttrX[test_index]\n",
    "    trainImagesX9000, testImagesX9000 = trainImagesX[train_index], trainImagesX[test_index]\n",
    "    y_train, y_val = trainY[train_index], trainY[test_index]\n",
    "    print(trainAttrX9000.shape, trainImagesX9000.shape, y_train.shape, y_val.shape)\n",
    "    \n",
    "    # train model\n",
    "    model.fit(\n",
    "        [trainAttrX9000, trainImagesX9000], y_train,\n",
    "        validation_data=([testAttrX9000, testImagesX9000], y_val),\n",
    "        epochs=3, batch_size=100)"
   ]
  },
  {
   "cell_type": "markdown",
   "metadata": {},
   "source": [
    "# 2.4 Sanity Check, Predictions on validation set"
   ]
  },
  {
   "cell_type": "code",
   "execution_count": 98,
   "metadata": {},
   "outputs": [],
   "source": [
    "y_pred = model.predict([valAttrX, valImagesX])\n",
    "y_predict = (y_pred > 0.5)"
   ]
  },
  {
   "cell_type": "markdown",
   "metadata": {},
   "source": [
    "Simple confusion matrix:"
   ]
  },
  {
   "cell_type": "code",
   "execution_count": 99,
   "metadata": {},
   "outputs": [
    {
     "name": "stdout",
     "output_type": "stream",
     "text": [
      "confusion matrix:\n",
      " [[13417    59]\n",
      " [   79  1445]]\n",
      "\n",
      "percentage correctly predicted inside partitioned training set:\n",
      "99.08%\n"
     ]
    }
   ],
   "source": [
    "# Simple confusion matrix\n",
    "\n",
    "# TN, FP\n",
    "# FN, TP\n",
    "\n",
    "from sklearn.metrics import confusion_matrix\n",
    "cm = confusion_matrix(valY, y_predict)\n",
    "correctpercentage = (cm[0][0] + cm[1][1]) / (cm[1][0] + cm[0][1] + cm[0][0] + cm[1][1])\n",
    "print('confusion matrix:\\n', cm)\n",
    "print('\\npercentage correctly predicted inside partitioned training set:\\n' + str(correctpercentage*100) + '%')"
   ]
  },
  {
   "cell_type": "markdown",
   "metadata": {},
   "source": [
    "# Predict final dataset of challenge"
   ]
  },
  {
   "cell_type": "markdown",
   "metadata": {},
   "source": [
    "Load testing files:"
   ]
  },
  {
   "cell_type": "code",
   "execution_count": 55,
   "metadata": {},
   "outputs": [],
   "source": [
    "written_test_input = np.load(\"written_test.npy\", allow_pickle=True)\n",
    "spoken_test_input = np.load(\"spoken_test.npy\", allow_pickle=True)"
   ]
  },
  {
   "cell_type": "code",
   "execution_count": 56,
   "metadata": {},
   "outputs": [
    {
     "name": "stderr",
     "output_type": "stream",
     "text": [
      "C:\\ProgramData\\Anaconda3\\lib\\site-packages\\sklearn\\utils\\validation.py:595: DataConversionWarning: Data with input dtype int64 was converted to float64 by StandardScaler.\n",
      "  warnings.warn(msg, DataConversionWarning)\n",
      "C:\\ProgramData\\Anaconda3\\lib\\site-packages\\sklearn\\utils\\validation.py:595: DataConversionWarning: Data with input dtype int64 was converted to float64 by StandardScaler.\n",
      "  warnings.warn(msg, DataConversionWarning)\n"
     ]
    }
   ],
   "source": [
    "#apply standardscaler to the 'written' dataset, reshape to 4D for CNN\n",
    "written_test = written_preprocess(written_test_input)\n",
    "written_test = np.reshape(written_test, (written_test.shape[0], 28,28,1))"
   ]
  },
  {
   "cell_type": "code",
   "execution_count": 57,
   "metadata": {},
   "outputs": [],
   "source": [
    "#apply padding and standardscaler to the 'spoken' dataset, reshape to 4D for CNN\n",
    "spoken_test = spoken_preprocess(spoken_test_input)\n",
    "spoken_test = np.reshape(spoken_test, (45000,10,10,13))"
   ]
  },
  {
   "cell_type": "code",
   "execution_count": 58,
   "metadata": {},
   "outputs": [
    {
     "name": "stdout",
     "output_type": "stream",
     "text": [
      "(45000, 28, 28, 1)\n",
      "(45000, 10, 10, 13)\n"
     ]
    }
   ],
   "source": [
    "# Shape check. Each variable must be a 4D numpy array to make the joined CNN's work. \n",
    "print(written_test.shape)\n",
    "print(spoken_test.shape)"
   ]
  },
  {
   "cell_type": "code",
   "execution_count": 59,
   "metadata": {},
   "outputs": [],
   "source": [
    "#concatenate numpy arrays which are both rescaled\n",
    "test_features = [spoken_test, written_test]"
   ]
  },
  {
   "cell_type": "code",
   "execution_count": 62,
   "metadata": {},
   "outputs": [
    {
     "name": "stdout",
     "output_type": "stream",
     "text": [
      "estimated labeled positive: 10.017777777777779%\n"
     ]
    }
   ],
   "source": [
    "#predict the outcome for the final testset of the challenge\n",
    "y_test = model.predict(test_features)\n",
    "y_test_pred = (y_test > 0.5)\n",
    "\n",
    "total_trues = 0\n",
    "for i in y_test_pred:\n",
    "    if i == True:\n",
    "        total_trues+=1\n",
    "print(total_trues)"
   ]
  },
  {
   "cell_type": "code",
   "execution_count": 64,
   "metadata": {},
   "outputs": [
    {
     "name": "stdout",
     "output_type": "stream",
     "text": [
      "estimated labeled positive in final test set: 10.017777777777779%\n"
     ]
    }
   ],
   "source": [
    "print('estimated labeled positive in final test set: '  + str((total_trues/y_test_pred.shape[0])*100) + '%')"
   ]
  },
  {
   "cell_type": "code",
   "execution_count": null,
   "metadata": {},
   "outputs": [],
   "source": [
    "#flatten result and print to numpy array for handing\n",
    "result = y_test_pred.flatten()\n",
    "np.save(\"result.npy\",result)"
   ]
  }
 ],
 "metadata": {
  "kernelspec": {
   "display_name": "Python 3",
   "language": "python",
   "name": "python3"
  },
  "language_info": {
   "codemirror_mode": {
    "name": "ipython",
    "version": 3
   },
   "file_extension": ".py",
   "mimetype": "text/x-python",
   "name": "python",
   "nbconvert_exporter": "python",
   "pygments_lexer": "ipython3",
   "version": "3.7.3"
  }
 },
 "nbformat": 4,
 "nbformat_minor": 2
}
