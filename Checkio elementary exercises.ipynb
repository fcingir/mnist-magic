{
 "cells": [
  {
   "cell_type": "code",
   "execution_count": 23,
   "metadata": {},
   "outputs": [
    {
     "name": "stdout",
     "output_type": "stream",
     "text": [
      "12039803\n"
     ]
    },
    {
     "data": {
      "text/plain": [
       "[1, 2, 3, 9, 8, 3]"
      ]
     },
     "execution_count": 23,
     "metadata": {},
     "output_type": "execute_result"
    }
   ],
   "source": [
    "def checkio(number: int) -> int:\n",
    "    a = str(number)\n",
    "    print(a)\n",
    "    b = []\n",
    "    for i in a:\n",
    "        if i != '0':\n",
    "            b.append(i)\n",
    "    c = [int(i) for i in b]\n",
    "    counter = 0\n",
    "    return c\n",
    "\n",
    "checkio(12039803)"
   ]
  },
  {
   "cell_type": "code",
   "execution_count": 6,
   "metadata": {},
   "outputs": [
    {
     "name": "stdout",
     "output_type": "stream",
     "text": [
      "5\n",
      "5\n",
      "10\n",
      "30\n"
     ]
    },
    {
     "data": {
      "text/plain": [
       "30"
      ]
     },
     "execution_count": 6,
     "metadata": {},
     "output_type": "execute_result"
    }
   ],
   "source": [
    "#function that takes a number, removes the zero and multiplies all the remaining digits. \n",
    "def checkio(number: int) -> int:\n",
    "    a = str(number)\n",
    "    b = [str(i) for i in a]\n",
    "    c = []\n",
    "    for i in b:\n",
    "        if i != '0':\n",
    "            c.append(i)\n",
    "    n = 0\n",
    "    answer = 1\n",
    "    for s in c:\n",
    "        answer = answer * int(s[n])\n",
    "        print(answer)\n",
    "    return answer\n",
    "checkio(51203)"
   ]
  },
  {
   "cell_type": "code",
   "execution_count": 8,
   "metadata": {},
   "outputs": [
    {
     "name": "stdout",
     "output_type": "stream",
     "text": [
      "<map object at 0x000002067614A7F0>\n"
     ]
    },
    {
     "data": {
      "text/plain": [
       "30"
      ]
     },
     "execution_count": 8,
     "metadata": {},
     "output_type": "execute_result"
    }
   ],
   "source": [
    "def checkio(number: int) -> int:\n",
    "\n",
    "    number = map(int, str(number))\n",
    "    answer = 1\n",
    "    for i in number:\n",
    "        if i == 0:\n",
    "            continue\n",
    "        else :\n",
    "            answer = answer*i\n",
    "    return answer\n",
    "\n",
    "checkio(51203)\n"
   ]
  },
  {
   "cell_type": "code",
   "execution_count": 18,
   "metadata": {},
   "outputs": [
    {
     "name": "stdout",
     "output_type": "stream",
     "text": [
      "0\n",
      "<class 'str'>\n"
     ]
    }
   ],
   "source": [
    "d = \"0\"\n",
    "if int(d):\n",
    "    print(1)\n",
    "else:\n",
    "    print(0)\n",
    "print(type(d))\n",
    "#if d == \"0\", then int(d) == 0, so “if int(d):” works only if d != \"0\"."
   ]
  },
  {
   "cell_type": "markdown",
   "metadata": {},
   "source": [
    "# Find secret message (capital letters)"
   ]
  },
  {
   "cell_type": "code",
   "execution_count": 28,
   "metadata": {},
   "outputs": [
    {
     "data": {
      "text/plain": [
       "'HOSTAGE'"
      ]
     },
     "execution_count": 28,
     "metadata": {},
     "output_type": "execute_result"
    }
   ],
   "source": [
    "# find secret message\n",
    "def secret(text: str) -> str:\n",
    "    string = \"\"\n",
    "    for i in text:\n",
    "        if i.isupper() == True:\n",
    "            string += i\n",
    "    return string\n",
    "        \n",
    "\n",
    "secret(\"Hello Open Sourcae Tea And Gunky Eel\")\n",
    "    "
   ]
  },
  {
   "cell_type": "markdown",
   "metadata": {},
   "source": [
    "# Find the sum of the array's integers. Multiply sum of integers with the final element in the array. Empty arrays should always return zero."
   ]
  },
  {
   "cell_type": "code",
   "execution_count": 47,
   "metadata": {},
   "outputs": [
    {
     "name": "stdout",
     "output_type": "stream",
     "text": [
      "[-37, -19, 29, 3, -64, 36, 26, 55, -65]\n",
      "-36\n",
      "41\n"
     ]
    },
    {
     "data": {
      "text/plain": [
       "-1476"
      ]
     },
     "execution_count": 47,
     "metadata": {},
     "output_type": "execute_result"
    }
   ],
   "source": [
    "def checkio(array):\n",
    "    #If array is empty, return 0\n",
    "    if len(array) == 0:\n",
    "        return 0\n",
    "    \n",
    "    #If array is not empty, perform summation and multiplication\n",
    "    newarray = []\n",
    "    for i in array:\n",
    "        if array.index(i) % 2 == 0:\n",
    "            newarray.append(i)\n",
    "    print(newarray)\n",
    "    a = sum(newarray)\n",
    "    print(a)\n",
    "    b = array[-1]\n",
    "    print(b)\n",
    "    return a*b\n",
    "checkio([-37,-36,-19,-99,29,20,3,-7,-64,84,36,62,26,-76,55,-24,84,49,-65,41])"
   ]
  },
  {
   "cell_type": "code",
   "execution_count": 51,
   "metadata": {},
   "outputs": [
    {
     "data": {
      "text/plain": [
       "-36"
      ]
     },
     "execution_count": 51,
     "metadata": {},
     "output_type": "execute_result"
    }
   ],
   "source": [
    "-37-19+29+3-64+36+26+55-65"
   ]
  },
  {
   "cell_type": "code",
   "execution_count": 52,
   "metadata": {},
   "outputs": [
    {
     "data": {
      "text/plain": [
       "0"
      ]
     },
     "execution_count": 52,
     "metadata": {},
     "output_type": "execute_result"
    }
   ],
   "source": [
    "8%2"
   ]
  },
  {
   "cell_type": "code",
   "execution_count": 55,
   "metadata": {},
   "outputs": [
    {
     "data": {
      "text/plain": [
       "2025"
      ]
     },
     "execution_count": 55,
     "metadata": {},
     "output_type": "execute_result"
    }
   ],
   "source": [
    "def checkio(array):\n",
    "    \n",
    "\n",
    "    if array:\n",
    "\n",
    "        x = sum(array[::2])*array[-1]\n",
    "    else:\n",
    "\n",
    "        return 0\n",
    "    return x\n",
    "\n",
    "checkio([-45])\n"
   ]
  },
  {
   "cell_type": "markdown",
   "metadata": {},
   "source": [
    "# Best stock price with dictionaries"
   ]
  },
  {
   "cell_type": "code",
   "execution_count": 3,
   "metadata": {},
   "outputs": [
    {
     "name": "stdout",
     "output_type": "stream",
     "text": [
      "the max value is 390.2\n",
      "ATX\n"
     ]
    }
   ],
   "source": [
    "def best_stock(data):\n",
    "    print(\"the max value is\", max(data.values()))\n",
    "    return max(data, key=data.get)\n",
    "\n",
    "print(best_stock({\n",
    "        'CAC': 10.0,\n",
    "        'ATX': 390.2,\n",
    "        'WIG': 1.2\n",
    "    }))\n",
    "\n"
   ]
  },
  {
   "cell_type": "markdown",
   "metadata": {},
   "source": [
    "# correct sentences to start with a capital letter and to end with a dot."
   ]
  },
  {
   "cell_type": "code",
   "execution_count": 10,
   "metadata": {},
   "outputs": [
    {
     "data": {
      "text/plain": [
       "'Poopy, mcscooopy.'"
      ]
     },
     "execution_count": 10,
     "metadata": {},
     "output_type": "execute_result"
    }
   ],
   "source": [
    "def correct_sentence(text: str) -> str:\n",
    "    \"\"\"\n",
    "        returns a corrected sentence which starts with a capital letter\n",
    "        and ends with a dot.\n",
    "    \"\"\"\n",
    "    a = text.lower()\n",
    "    b = a[0].upper()\n",
    "    c = b + a[1:]\n",
    "    d = c.strip(\"!@#$%^&*,.\") + \".\"\n",
    "    #change entire text to lower case. strip last dot and add a dot. \n",
    "    return d\n",
    "correct_sentence(\"poopy, mcscOOOpy.!\")"
   ]
  },
  {
   "cell_type": "markdown",
   "metadata": {},
   "source": [
    "# change substring \"right\" to substring \"left\" "
   ]
  },
  {
   "cell_type": "code",
   "execution_count": 6,
   "metadata": {},
   "outputs": [
    {
     "data": {
      "text/plain": [
       "'lefteous lefty'"
      ]
     },
     "execution_count": 6,
     "metadata": {},
     "output_type": "execute_result"
    }
   ],
   "source": [
    "def left_join(phrases):\n",
    "    phrases2 = ' '.join(str(i) for i in phrases)\n",
    "    phrases3 = phrases2.replace(\"right\", \"left\")\n",
    "    return phrases3\n",
    "left_join(('righteous','righty',))"
   ]
  },
  {
   "cell_type": "code",
   "execution_count": 30,
   "metadata": {},
   "outputs": [
    {
     "data": {
      "text/plain": [
       "'lefteous,lefty'"
      ]
     },
     "execution_count": 30,
     "metadata": {},
     "output_type": "execute_result"
    }
   ],
   "source": [
    "def left_join(phrases):\n",
    "    a = ()\n",
    "    for i in phrases:\n",
    "        j = i.replace(\"right\",\"left\")\n",
    "        a += (j,)\n",
    "    b = ''\n",
    "    for i in a:\n",
    "        b += i + ','\n",
    "    return b.strip(',')\n",
    "left_join(('righteous','righty',))    # CORRECT #"
   ]
  },
  {
   "cell_type": "markdown",
   "metadata": {},
   "source": [
    "# find second index of a letter in a string"
   ]
  },
  {
   "cell_type": "code",
   "execution_count": 35,
   "metadata": {},
   "outputs": [],
   "source": [
    "def second_index(text: str, symbol: str) -> [int, None]:\n",
    "    counter = 0\n",
    "    index = -1 # zodat de counter correct werkt\n",
    "    for i in text:\n",
    "        index += 1\n",
    "        if i == symbol:\n",
    "            counter += 1\n",
    "        if counter == 2:\n",
    "            return index\n",
    "    return None\n",
    "second_index(\"poopy\", \"o\")"
   ]
  },
  {
   "cell_type": "markdown",
   "metadata": {},
   "source": [
    "# sort by absolute value"
   ]
  },
  {
   "cell_type": "code",
   "execution_count": 48,
   "metadata": {},
   "outputs": [
    {
     "data": {
      "text/plain": [
       "[0, -5, 10, -20]"
      ]
     },
     "execution_count": 48,
     "metadata": {},
     "output_type": "execute_result"
    }
   ],
   "source": [
    "def checkio(numbers_array: tuple) -> list:\n",
    "    return sorted(numbers_array, key=abs)\n",
    "checkio((-5,0,-20,10))"
   ]
  },
  {
   "cell_type": "markdown",
   "metadata": {},
   "source": [
    "# something else (The most numbers assignment)"
   ]
  },
  {
   "cell_type": "code",
   "execution_count": 86,
   "metadata": {},
   "outputs": [
    {
     "data": {
      "text/plain": [
       "0"
      ]
     },
     "execution_count": 86,
     "metadata": {},
     "output_type": "execute_result"
    }
   ],
   "source": [
    "def checkio(*args):\n",
    "     # return zero if the function is called without arguments. \n",
    "    if len(args) == 0:\n",
    "        return 0 \n",
    "    \n",
    "    # Else: set lowest and highest to the first argument. Then iterate through each argument to determine new highs/lows. \n",
    "    else:\n",
    "        lowest = args[0]\n",
    "        highest = args[0]\n",
    "    for i in args:\n",
    "        if lowest > i:\n",
    "            lowest = i\n",
    "        if highest < i:\n",
    "            highest = i\n",
    "    ans = highest-lowest\n",
    "    return ans\n",
    "checkio()"
   ]
  },
  {
   "cell_type": "markdown",
   "metadata": {},
   "source": [
    "# solve first word"
   ]
  },
  {
   "cell_type": "code",
   "execution_count": 7,
   "metadata": {},
   "outputs": [
    {
     "data": {
      "text/plain": [
       "'and'"
      ]
     },
     "execution_count": 7,
     "metadata": {},
     "output_type": "execute_result"
    }
   ],
   "source": [
    "# return first word in a given text\n",
    "def first_word(text: str):\n",
    "    a = text.strip(',.;:')\n",
    "    return a.replace(',','').split()[0]\n",
    "first_word(\"... and so on ...\")"
   ]
  },
  {
   "cell_type": "markdown",
   "metadata": {},
   "source": [
    "# If 3 words are alphanumeric, return True, else False. "
   ]
  },
  {
   "cell_type": "code",
   "execution_count": 28,
   "metadata": {},
   "outputs": [
    {
     "name": "stdout",
     "output_type": "stream",
     "text": [
      "0\n",
      "1\n",
      "1\n",
      "1\n",
      "2\n"
     ]
    },
    {
     "data": {
      "text/plain": [
       "False"
      ]
     },
     "execution_count": 28,
     "metadata": {},
     "output_type": "execute_result"
    }
   ],
   "source": [
    "def checkio(words: str) -> bool:\n",
    "    text = words.split()\n",
    "    counter = 0\n",
    "    for i in text:\n",
    "        if i.isalpha():\n",
    "            counter += 1\n",
    "        print(counter)\n",
    "        if i.isdigit():\n",
    "            counter = 0\n",
    "        if counter == 3:\n",
    "            return True\n",
    "    return False\n",
    "checkio('10 hello 10 world hello')\n",
    "\n",
    "#To distinguish between words and numbers, use str.isalpha and str.isdigit."
   ]
  },
  {
   "cell_type": "code",
   "execution_count": 42,
   "metadata": {},
   "outputs": [
    {
     "name": "stdout",
     "output_type": "stream",
     "text": [
      "(0, {'name': 'wine', 'price': 138})\n",
      "(1, {'name': 'bread', 'price': 100})\n",
      "(2, {'name': 'meat', 'price': 15})\n",
      "(3, {'name': 'water', 'price': 1})\n",
      "[{'name': 'wine', 'price': 138}, {'name': 'bread', 'price': 100}]\n"
     ]
    }
   ],
   "source": [
    "def bigger_price(limit: int, data: list) -> list:\n",
    "    newlist = sorted(data, key=lambda k: k[\"price\"], reverse = True)\n",
    "    for i in enumerate(newlist):\n",
    "        print(i)\n",
    "    newnewlist = newlist[:limit] \n",
    "    return newnewlist\n",
    "\n",
    "print(bigger_price(2, [\n",
    "        {\"name\": \"bread\", \"price\": 100},\n",
    "        {\"name\": \"wine\", \"price\": 138},\n",
    "        {\"name\": \"meat\", \"price\": 15},\n",
    "        {\"name\": \"water\", \"price\": 1}\n",
    "    ]))"
   ]
  },
  {
   "cell_type": "code",
   "execution_count": 52,
   "metadata": {},
   "outputs": [
    {
     "name": "stdout",
     "output_type": "stream",
     "text": [
      "i\n",
      "was\n",
      "three\n",
      "near\n",
      "{'i': 4, 'was': 3, 'three': 0, 'near': 0}\n"
     ]
    },
    {
     "data": {
      "text/plain": [
       "{'i': 4, 'was': 3, 'three': 0, 'near': 0}"
      ]
     },
     "execution_count": 52,
     "metadata": {},
     "output_type": "execute_result"
    }
   ],
   "source": [
    "def popular_words(text: str, words: list) -> dict:\n",
    "    collection = text.lower().split()\n",
    "    dict1 = {}\n",
    "    for i in enumerate(words):\n",
    "        counter = 0\n",
    "        print(i[1])\n",
    "        for j in collection:\n",
    "            if j == i[1]:\n",
    "                counter += 1\n",
    "        dict1[i[1]] = counter\n",
    "    print(dict1)\n",
    "    return dict1\n",
    "\n",
    "popular_words('''\n",
    "When I was One\n",
    "I had just begun\n",
    "When I was Two\n",
    "I was nearly new\n",
    "''', ['i', 'was', 'three', 'near'])"
   ]
  },
  {
   "cell_type": "code",
   "execution_count": 40,
   "metadata": {},
   "outputs": [
    {
     "data": {
      "text/plain": [
       "''"
      ]
     },
     "execution_count": 40,
     "metadata": {},
     "output_type": "execute_result"
    }
   ],
   "source": [
    "def between_markers(text: str, begin: str, end: str) -> str:\n",
    "    a = \" \".join(text)\n",
    "    if (begin not in a) or (end not in a):\n",
    "        return ''\n",
    "    \n",
    "    else:    \n",
    "        textstart = text.index(begin)\n",
    "        textend = text.index(end)\n",
    "    \n",
    "    return text[textstart+1:textend]\n",
    "\n",
    "between_markers('No[/b] hi', '[b]', '[/b]')\n",
    "#between_markers('What is [apple]', '[', ']')"
   ]
  },
  {
   "cell_type": "code",
   "execution_count": 87,
   "metadata": {},
   "outputs": [
    {
     "name": "stdout",
     "output_type": "stream",
     "text": [
      "Wow, you are doing pretty good. Time to check it!\n"
     ]
    }
   ],
   "source": [
    "def between_markers(text: str, begin: str, end: str) -> str:\n",
    "    identify_start = text.find(begin)\n",
    "    identify_end = text.find(end)\n",
    "    \n",
    "    if begin in text:\n",
    "        \n",
    "        if end in text:\n",
    "            if text.find(begin) < text.find(end):\n",
    "                return text[(identify_start+len(begin)):(identify_end)]\n",
    "            if text.find(end) > text.find(begin):\n",
    "                return text[(identify_start+len(begin)):-1]\n",
    "            \n",
    "            #if wrong order:\n",
    "            if text.find(end) < text.find(begin):\n",
    "                return ''\n",
    "            \n",
    "        if end not in text: \n",
    "            return text[(identify_start+len(begin)):]\n",
    "    \n",
    "    if end in text:\n",
    "        return text[0:(identify_end)]\n",
    "\n",
    "    \n",
    "    else:\n",
    "        return text\n",
    "\n",
    "assert between_markers('What is >apple<', '>', '<') == \"apple\", \"One sym\"\n",
    "assert between_markers(\"<head><title>My new site</title></head>\",\n",
    "                       \"<title>\", \"</title>\") == \"My new site\", \"HTML\"\n",
    "assert between_markers('No[/b] hi', '[b]', '[/b]') == 'No', 'No opened'\n",
    "assert between_markers('No [b]hi', '[b]', '[/b]') == 'hi', 'No close'\n",
    "assert between_markers('No hi', '[b]', '[/b]') == 'No hi', 'No markers at all'\n",
    "assert between_markers('No <hi>', '>', '<') == '', 'Wrong direction'\n",
    "print('Wow, you are doing pretty good. Time to check it!')"
   ]
  },
  {
   "cell_type": "code",
   "execution_count": null,
   "metadata": {},
   "outputs": [],
   "source": []
  }
 ],
 "metadata": {
  "kernelspec": {
   "display_name": "Python 3",
   "language": "python",
   "name": "python3"
  },
  "language_info": {
   "codemirror_mode": {
    "name": "ipython",
    "version": 3
   },
   "file_extension": ".py",
   "mimetype": "text/x-python",
   "name": "python",
   "nbconvert_exporter": "python",
   "pygments_lexer": "ipython3",
   "version": "3.7.3"
  }
 },
 "nbformat": 4,
 "nbformat_minor": 2
}
