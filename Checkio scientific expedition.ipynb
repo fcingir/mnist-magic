{
 "cells": [
  {
   "cell_type": "markdown",
   "metadata": {},
   "source": [
    "# Common Words"
   ]
  },
  {
   "cell_type": "code",
   "execution_count": 9,
   "metadata": {},
   "outputs": [
    {
     "name": "stdout",
     "output_type": "stream",
     "text": [
      "test1: {'three', 'two', 'one'} {'four', 'one', 'three', 'five', 'six', 'two'}\n",
      "test1: one,three,two\n"
     ]
    },
    {
     "data": {
      "text/plain": [
       "'one,three,two'"
      ]
     },
     "execution_count": 9,
     "metadata": {},
     "output_type": "execute_result"
    }
   ],
   "source": [
    "def checkio(first, second):\n",
    "    first1 = first.split(\",\")\n",
    "    second1 = second.split(\",\")\n",
    "    output = []\n",
    "    for i in first1:\n",
    "        for j in second1:\n",
    "            if i == j:\n",
    "                output.append(i)\n",
    "                break\n",
    "    output = sorted(output)\n",
    "    ans = \"\"\n",
    "    for i in output:\n",
    "        ans += i + \",\"\n",
    "        \n",
    "    \n",
    "    return ans.strip(\",\")\n",
    "\n",
    "checkio(\"one,two,three\", \"four,five,one,two,six,three\")\n"
   ]
  },
  {
   "cell_type": "code",
   "execution_count": 10,
   "metadata": {},
   "outputs": [
    {
     "data": {
      "text/plain": [
       "'one,three,two'"
      ]
     },
     "execution_count": 10,
     "metadata": {},
     "output_type": "execute_result"
    }
   ],
   "source": [
    "def checkio(first, second):\n",
    "\n",
    "    return \",\".join(sorted([x for x in first.split(\",\") if x in second.split(\",\")]))\n",
    "checkio(\"one,two,three\", \"four,five,one,two,six,three\")\n"
   ]
  },
  {
   "cell_type": "code",
   "execution_count": null,
   "metadata": {},
   "outputs": [],
   "source": [
    "def checkio(first, second):\n",
    "\n",
    "# first split the set by separator = ','    \n",
    "\n",
    "    first_set = set(first.split(','))\n",
    "\n",
    "    second_set = set(second.split(','))\n",
    "\n",
    "    print(\"test1:\", first_set, second_set)\n",
    "\n",
    "\n",
    "# but sorted function puts elements in order already and intersect seems to put them in order of appearance in string...\n",
    "\n",
    "\n",
    "    joinedset = ','.join(sorted(first_set & second_set))\n",
    "\n",
    "    print(\"test1:\", joinedset)\n",
    "\n",
    "    return ','.join(sorted(first_set & second_set))\n",
    "\n",
    "\n",
    "\n",
    "checkio(\"one,two,three\", \"four,five,one,two,six,three\")\n"
   ]
  },
  {
   "cell_type": "markdown",
   "metadata": {},
   "source": [
    "# Completely empty "
   ]
  },
  {
   "cell_type": "code",
   "execution_count": 103,
   "metadata": {},
   "outputs": [
    {
     "name": "stdout",
     "output_type": "stream",
     "text": [
      "1\n"
     ]
    },
    {
     "data": {
      "text/plain": [
       "False"
      ]
     },
     "execution_count": 103,
     "metadata": {},
     "output_type": "execute_result"
    }
   ],
   "source": [
    "def completely_empty(val):\n",
    "\n",
    "    def digger(balls):\n",
    "        if isinstance(balls,list):\n",
    "            for i in balls:\n",
    "                if isinstance(i, dict):\n",
    "                    if not str(i).isalnum():\n",
    "                        return True\n",
    "                if str(i).isalnum():\n",
    "                    return False\n",
    "                else:\n",
    "                    continue\n",
    "    \n",
    "    state = True\n",
    "    \n",
    "    for i in val:\n",
    "        print(i)\n",
    "\n",
    "        if isinstance(i, list):\n",
    "            if digger(i) == False:\n",
    "                state = False\n",
    "        if not isinstance(i, list):\n",
    "            state = True\n",
    "        \n",
    "        if str(i).isalnum():\n",
    "            state = False\n",
    "    \n",
    "    return state\n",
    "\n",
    "\n",
    "completely_empty([1])\n"
   ]
  },
  {
   "cell_type": "code",
   "execution_count": 106,
   "metadata": {},
   "outputs": [
    {
     "name": "stdout",
     "output_type": "stream",
     "text": [
      "[<tuple_iterator object at 0x000002BB7B44DB70>]\n"
     ]
    }
   ],
   "source": [
    "print([iter((1,))])"
   ]
  },
  {
   "cell_type": "code",
   "execution_count": null,
   "metadata": {},
   "outputs": [],
   "source": []
  }
 ],
 "metadata": {
  "kernelspec": {
   "display_name": "Python 3",
   "language": "python",
   "name": "python3"
  },
  "language_info": {
   "codemirror_mode": {
    "name": "ipython",
    "version": 3
   },
   "file_extension": ".py",
   "mimetype": "text/x-python",
   "name": "python",
   "nbconvert_exporter": "python",
   "pygments_lexer": "ipython3",
   "version": "3.7.3"
  }
 },
 "nbformat": 4,
 "nbformat_minor": 2
}
